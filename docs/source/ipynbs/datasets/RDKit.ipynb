{
 "cells": [
  {
   "cell_type": "markdown",
   "id": "5ff3d9d9",
   "metadata": {},
   "source": [
    "# DRKit"
   ]
  },
  {
   "cell_type": "code",
   "execution_count": 1,
   "id": "f0094893",
   "metadata": {},
   "outputs": [],
   "source": [
    "from rdkit import Chem\n",
    "from ogb.graphproppred import PygGraphPropPredDataset\n",
    "from torch_geometric.data import DataLoader"
   ]
  },
  {
   "cell_type": "code",
   "execution_count": 2,
   "id": "40594c79",
   "metadata": {},
   "outputs": [
    {
     "name": "stdout",
     "output_type": "stream",
     "text": [
      "Task type: binary classification\n"
     ]
    }
   ],
   "source": [
    "# Load the dataset \n",
    "dataset = PygGraphPropPredDataset(name='ogbg-molhiv')\n",
    "\n",
    "split_idx = dataset.get_idx_split()\n",
    "\n",
    "# Check task type\n",
    "print('Task type: {}'.format(dataset.task_type))"
   ]
  },
  {
   "cell_type": "code",
   "execution_count": 3,
   "id": "2a5247e8",
   "metadata": {},
   "outputs": [
    {
     "name": "stdout",
     "output_type": "stream",
     "text": [
      "Dataset: PygGraphPropPredDataset(41127):\n",
      "======================\n",
      "Number of graphs: 41127\n",
      "Number of features: 9\n",
      "Number of classes: 2\n",
      "============= split ==========\n",
      "Number of training nodes: 32901\n",
      "Training graph rate: 0.80\n",
      "Number of validation nodes: 4113\n",
      "validation node label rate: 0.10\n",
      "Number of test nodes: 4113\n",
      "test node label rate: 0.10\n"
     ]
    }
   ],
   "source": [
    "print(f'Dataset: {dataset}:')\n",
    "print('======================')\n",
    "print(f'Number of graphs: {len(dataset)}')\n",
    "print(f'Number of features: {dataset.num_features}')\n",
    "print(f'Number of classes: {dataset.num_classes}')\n",
    "\n",
    "print(\"============= split ==========\")\n",
    "\n",
    "print(f\"Number of training nodes: {split_idx['train'].shape[0]}\")\n",
    "print(f\"Training graph rate: {int(split_idx['train'].shape[0]) / len(dataset):.2f}\")\n",
    "print(f\"Number of validation nodes: {split_idx['valid'].shape[0]}\")\n",
    "print(f\"validation node label rate: {int(split_idx['valid'].shape[0]) / len(dataset):.2f}\")\n",
    "print(f\"Number of test nodes: {split_idx['test'].shape[0]}\")\n",
    "print(f\"test node label rate: {int(split_idx['test'].shape[0]) / len(dataset):.2f}\")"
   ]
  },
  {
   "cell_type": "code",
   "execution_count": 4,
   "id": "d2ad6950",
   "metadata": {},
   "outputs": [
    {
     "data": {
      "image/png": "[encoded data removed]",
      "text/plain": [
       "<rdkit.Chem.rdchem.Mol at 0x7f6df420bda0>"
      ]
     },
     "execution_count": 4,
     "metadata": {},
     "output_type": "execute_result"
    }
   ],
   "source": [
    "import pandas as pd\n",
    "from rdkit import Chem\n",
    "from rdkit.Chem.Draw import IPythonConsole #Needed to show molecules\n",
    "\n",
    "molhiv_df = pd.read_csv('./dataset/ogbg_molhiv/mapping/mol.csv.gz')\n",
    "smiles = molhiv_df.smiles[0]\n",
    "# CCC(O)(C(=O)O)c1cc2n(c(=O)c1CO)Cc1cc3ccccc3nc1-2.[NaH]\n",
    "amol = Chem.MolFromSmiles(smiles)\n",
    "amol"
   ]
  },
  {
   "cell_type": "code",
   "execution_count": 5,
   "id": "a402f5fd",
   "metadata": {},
   "outputs": [],
   "source": [
    "import ogb.utils.features as features\n",
    "import ogb.utils.mol as mol"
   ]
  },
  {
   "cell_type": "code",
   "execution_count": 6,
   "id": "baf3c886",
   "metadata": {},
   "outputs": [],
   "source": [
    "data = dataset[0]"
   ]
  },
  {
   "cell_type": "code",
   "execution_count": 7,
   "id": "e2593c8c",
   "metadata": {},
   "outputs": [
    {
     "data": {
      "text/plain": [
       "Data(edge_index=[2, 40], edge_attr=[40, 3], x=[19, 9], y=[1, 1], num_nodes=19)"
      ]
     },
     "execution_count": 7,
     "metadata": {},
     "output_type": "execute_result"
    }
   ],
   "source": [
    "data"
   ]
  },
  {
   "cell_type": "code",
   "execution_count": 8,
   "id": "2f8bbe86",
   "metadata": {},
   "outputs": [],
   "source": [
    "import networkx as nx"
   ]
  },
  {
   "cell_type": "code",
   "execution_count": 9,
   "id": "0be39a26",
   "metadata": {},
   "outputs": [
    {
     "data": {
      "image/png": "[encoded data removed]",
      "text/plain": [
       "<Figure size 432x288 with 1 Axes>"
      ]
     },
     "metadata": {},
     "output_type": "display_data"
    }
   ],
   "source": [
    "from torch_geometric.utils import to_networkx\n",
    "G = to_networkx(data)\n",
    "nx.draw(G, with_labels = True)"
   ]
  },
  {
   "cell_type": "code",
   "execution_count": 10,
   "id": "fe82f322",
   "metadata": {},
   "outputs": [
    {
     "data": {
      "text/plain": [
       "{'bond_type': 'DOUBLE', 'bond_stereo': 'STEREONONE', 'is_conjugated': False}"
      ]
     },
     "execution_count": 10,
     "metadata": {},
     "output_type": "execute_result"
    }
   ],
   "source": [
    "features.bond_feature_vector_to_dict(data.edge_attr[4])"
   ]
  },
  {
   "cell_type": "code",
   "execution_count": 11,
   "id": "8a4f6434",
   "metadata": {},
   "outputs": [
    {
     "data": {
      "text/plain": [
       "Data(edge_index=[2, 40], edge_attr=[40, 3], x=[19, 9], y=[1, 1], num_nodes=19)"
      ]
     },
     "execution_count": 11,
     "metadata": {},
     "output_type": "execute_result"
    }
   ],
   "source": [
    "data"
   ]
  },
  {
   "cell_type": "code",
   "execution_count": 12,
   "id": "a361d975",
   "metadata": {},
   "outputs": [
    {
     "data": {
      "text/plain": [
       "tensor([5, 0, 4, 5, 3, 0, 2, 0, 0])"
      ]
     },
     "execution_count": 12,
     "metadata": {},
     "output_type": "execute_result"
    }
   ],
   "source": [
    "data.x[0]"
   ]
  },
  {
   "cell_type": "code",
   "execution_count": 13,
   "id": "cf9c15de",
   "metadata": {},
   "outputs": [
    {
     "data": {
      "text/plain": [
       "{'atomic_num': 6,\n",
       " 'chirality': 'CHI_UNSPECIFIED',\n",
       " 'degree': 4,\n",
       " 'formal_charge': 0,\n",
       " 'num_h': 3,\n",
       " 'num_rad_e': 0,\n",
       " 'hybridization': 'SP3',\n",
       " 'is_aromatic': False,\n",
       " 'is_in_ring': False}"
      ]
     },
     "execution_count": 13,
     "metadata": {},
     "output_type": "execute_result"
    }
   ],
   "source": [
    "features.atom_feature_vector_to_dict(data.x[0])"
   ]
  }
 ],
 "metadata": {
  "kernelspec": {
   "display_name": "Python 3 (ipykernel)",
   "language": "python",
   "name": "python3"
  },
  "language_info": {
   "codemirror_mode": {
    "name": "ipython",
    "version": 3
   },
   "file_extension": ".py",
   "mimetype": "text/x-python",
   "name": "python",
   "nbconvert_exporter": "python",
   "pygments_lexer": "ipython3",
   "version": "3.7.13"
  }
 },
 "nbformat": 4,
 "nbformat_minor": 5
}
