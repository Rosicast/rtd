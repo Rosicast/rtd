{
 "cells": [
  {
   "cell_type": "markdown",
   "id": "f9096034",
   "metadata": {},
   "source": [
    "# ogbg-molhiv"
   ]
  },
  {
   "cell_type": "markdown",
   "id": "9ab85c36",
   "metadata": {},
   "source": [
    "**Graph**: The ogbg-molhiv and ogbg-molpcba datasets are two molecular property prediction datasets of different sizes: ogbg-molhiv (small) and ogbg-molpcba (medium). They are adopted from the MoleculeNet [1], and are among the largest of the MoleculeNet datasets. All the molecules are pre-processed using RDKit [2]. Each graph represents a molecule, where nodes are atoms, and edges are chemical bonds. Input node features are 9-dimensional, containing atomic number and chirality, as well as other additional atom features such as formal charge and whether the atom is in the ring or not. The full description of the features is provided in [code](https://github.com/snap-stanford/ogb/blob/master/ogb/utils/features.py). The script to convert the SMILES string [3] to the above graph object can be found [here](https://github.com/snap-stanford/ogb/blob/master/ogb/utils/mol.py). Note that the script requires [RDkit](https://www.rdkit.org/docs/GettingStartedInPython.html) to be installed. The script can be used to pre-process external molecule datasets so that those datasets share the same input feature space as the OGB molecule datasets. This is particularly useful for pre-training graph models, which has great potential to significantly increase generalization performance on the (downstream) OGB datasets [4].\n",
    "\n",
    "Beside the two main datasets, we additionally provide 10 smaller datasets from MoleculeNet. They are `ogbg-moltox21`, `ogbg-molbace`, `ogbg-molbbbp`, `ogbg-molclintox`, `ogbg-molmuv`, `ogbg-molsider`, and `ogbg-moltoxcast` for (multi-task) binary classification, and `ogbg-molesol`, `ogbg-molfreesolv`, and `ogbg-mollipo` for regression. Evaluators are also provided for these datasets. These datasets can be used to stress-test molecule-specific methods or transfer learning [4].\n",
    "\n",
    "For encoding these raw input features, we prepare simple modules called `AtomEncoder` and `BondEncoder`. They can be used as follows to embed raw atom and bond features to obtain `atom_emb` and `bond_emb`.\n",
    "\n",
    "```python\n",
    "from ogb.graphproppred.mol_encoder import AtomEncoder, BondEncoder\n",
    "atom_encoder = AtomEncoder(emb_dim = 100)\n",
    "bond_encoder = BondEncoder(emb_dim = 100)\n",
    "\n",
    "atom_emb = atom_encoder(x) # x is input atom feature\n",
    "edge_emb = bond_encoder(edge_attr) # edge_attr is input edge feature\n",
    "```\n",
    "\n",
    "**Datasets**\n",
    "\n",
    "**Prediction task**: The task is to predict the target molecular properties as accurately as possible, where the molecular properties are cast as binary labels, e.g, whether a molecule inhibits HIV virus replication or not. Note that some datasets (e.g., `ogbg-molpcba`) can have multiple tasks, and can contain `nan` that indicates the corresponding label is not assigned to the molecule. For evaluation metric, we closely follow [1]. Specifically, for `ogbg-molhiv`, we use ROC-AUC for evaluation. For `ogbg-molpcba`, as the class balance is extremely skewed (only 1.4% of data is positive) and the dataset contains multiple classification tasks, we use the Average Precision (AP) averaged over the tasks as the evaluation metric.\n",
    "\n",
    "**Dataset splitting**: We adopt the scaffold splitting procedure that splits the molecules based on their two-dimensional structural frameworks. The scaffold splitting attempts to separate structurally different molecules into different subsets, which provides a more realistic estimate of model performance in prospective experimental settings [1]."
   ]
  },
  {
   "cell_type": "markdown",
   "id": "7876e1cb",
   "metadata": {},
   "source": [
    "Base on the [paper](https://arxiv.org/pdf/2005.00687.pdf),\n",
    "* Split Scheme: Scaffold\n",
    "* Split Ratio: 80/10/10\n",
    "* Task Type: Binary Class\n",
    "* Metric: ROC-AUC\n",
    "* #Graph: 41127\n",
    "* Average #Nodes: 25.5\n",
    "* Average #Edges: 27.5\n",
    "* Average Node Deg: 2.2\n",
    "* Average Clust Coeff: 0.002\n",
    "* MaxSCC Ratio: 0.993\n",
    "* Graph Diameter: 12.0\n",
    "\n",
    "The MaxSCC ratio shows the fraction of nodes in the largest strongly connected component of the graph."
   ]
  },
  {
   "cell_type": "markdown",
   "id": "1f116db4",
   "metadata": {},
   "source": [
    "![baseline](../../images/ogbg-molhiv-baseline.png)\n",
    "from [5]"
   ]
  },
  {
   "cell_type": "markdown",
   "id": "c3021e62",
   "metadata": {},
   "source": [
    "## Load and preprocess the dataset"
   ]
  },
  {
   "cell_type": "code",
   "execution_count": 1,
   "id": "65a84b14",
   "metadata": {},
   "outputs": [],
   "source": [
    "import os\n",
    "from ogb.graphproppred import PygGraphPropPredDataset\n",
    "from torch_geometric.data import DataLoader"
   ]
  },
  {
   "cell_type": "code",
   "execution_count": 2,
   "id": "49d2dcc3",
   "metadata": {},
   "outputs": [
    {
     "name": "stdout",
     "output_type": "stream",
     "text": [
      "Downloading http://snap.stanford.edu/ogb/data/graphproppred/csv_mol_download/hiv.zip\n"
     ]
    },
    {
     "name": "stderr",
     "output_type": "stream",
     "text": [
      "Downloaded 0.00 GB: 100%|██████████████████████████████████████████████████| 3/3 [00:02<00:00,  1.25it/s]\n",
      "Processing...\n"
     ]
    },
    {
     "name": "stdout",
     "output_type": "stream",
     "text": [
      "Extracting dataset/hiv.zip\n",
      "Loading necessary files...\n",
      "This might take a while.\n",
      "Processing graphs...\n"
     ]
    },
    {
     "name": "stderr",
     "output_type": "stream",
     "text": [
      "100%|██████████████████████████████████████████████████████████| 41127/41127 [00:00<00:00, 179483.00it/s]\n"
     ]
    },
    {
     "name": "stdout",
     "output_type": "stream",
     "text": [
      "Converting graphs into PyG objects...\n"
     ]
    },
    {
     "name": "stderr",
     "output_type": "stream",
     "text": [
      "100%|███████████████████████████████████████████████████████████| 41127/41127 [00:00<00:00, 79541.81it/s]\n"
     ]
    },
    {
     "name": "stdout",
     "output_type": "stream",
     "text": [
      "Saving...\n",
      "Task type: binary classification\n"
     ]
    },
    {
     "name": "stderr",
     "output_type": "stream",
     "text": [
      "Done!\n"
     ]
    }
   ],
   "source": [
    "if 'IS_GRADESCOPE_ENV' not in os.environ:\n",
    "  # Load the dataset \n",
    "  dataset = PygGraphPropPredDataset(name='ogbg-molhiv')\n",
    "\n",
    "  split_idx = dataset.get_idx_split()\n",
    "\n",
    "  # Check task type\n",
    "  print('Task type: {}'.format(dataset.task_type))"
   ]
  },
  {
   "cell_type": "code",
   "execution_count": 3,
   "id": "02e5b8a4",
   "metadata": {},
   "outputs": [
    {
     "data": {
      "text/plain": [
       "{'train': tensor([    3,     4,     5,  ..., 41124, 41125, 41126]),\n",
       " 'valid': tensor([10127, 10129, 10132,  ..., 22785, 22786, 22788]),\n",
       " 'test': tensor([    0,     1,     2,  ..., 10122, 10124, 10125])}"
      ]
     },
     "execution_count": 3,
     "metadata": {},
     "output_type": "execute_result"
    }
   ],
   "source": [
    "split_idx"
   ]
  },
  {
   "cell_type": "code",
   "execution_count": 6,
   "id": "fba815ce",
   "metadata": {},
   "outputs": [],
   "source": [
    "data = dataset[0]"
   ]
  },
  {
   "cell_type": "code",
   "execution_count": 9,
   "id": "77e6eb7f",
   "metadata": {},
   "outputs": [
    {
     "name": "stdout",
     "output_type": "stream",
     "text": [
      "Dataset: PygGraphPropPredDataset(41127):\n",
      "======================\n",
      "Number of graphs: 41127\n",
      "Number of features: 9\n",
      "Number of classes: 2\n",
      "Since there are many graphs, it worth nothing to check a data or graph\n",
      "============= split ==========\n",
      "Number of training nodes: 32901\n",
      "Training graph rate: 0.80\n",
      "Number of validation nodes: 4113\n",
      "validation node label rate: 0.10\n",
      "Number of test nodes: 4113\n",
      "test node label rate: 0.10\n",
      "============ properties ===========\n",
      "Contains isolated nodes: False\n",
      "Contains self-loops: False\n",
      "Is undirected: True\n",
      "Is directed: False\n"
     ]
    }
   ],
   "source": [
    "print(f'Dataset: {dataset}:')\n",
    "print('======================')\n",
    "print(f'Number of graphs: {len(dataset)}')\n",
    "print(f'Number of features: {dataset.num_features}')\n",
    "print(f'Number of classes: {dataset.num_classes}')\n",
    "\n",
    "print('Since there are many graphs, it worth nothing to check a data or graph')\n",
    "\n",
    "# Gather some statistics about the graph.\n",
    "# print(f'Number of nodes: {data.num_nodes}')\n",
    "# print(f'Number of node features: {data.num_node_features}')\n",
    "# print(f'Number of edges: {data.num_edges}')\n",
    "# print(f'Number of edge features: {data.num_edge_features}')\n",
    "# print(f'Average node degree: {(2*data.num_edges) / data.num_nodes:.2f}')\n",
    "\n",
    "print(\"============= split ==========\")\n",
    "\n",
    "print(f\"Number of training nodes: {split_idx['train'].shape[0]}\")\n",
    "print(f\"Training graph rate: {int(split_idx['train'].shape[0]) / len(dataset):.2f}\")\n",
    "print(f\"Number of validation nodes: {split_idx['valid'].shape[0]}\")\n",
    "print(f\"validation node label rate: {int(split_idx['valid'].shape[0]) / len(dataset):.2f}\")\n",
    "print(f\"Number of test nodes: {split_idx['test'].shape[0]}\")\n",
    "print(f\"test node label rate: {int(split_idx['test'].shape[0]) / len(dataset):.2f}\")\n",
    "\n",
    "print(\"============ properties ===========\")\n",
    "print(f'Contains isolated nodes: {data.has_isolated_nodes()}')\n",
    "print(f'Contains self-loops: {data.has_self_loops()}')\n",
    "print(f'Is undirected: {data.is_undirected()}')\n",
    "print(f'Is directed: {data.is_directed()}')"
   ]
  },
  {
   "cell_type": "markdown",
   "id": "3d6acc94",
   "metadata": {},
   "source": [
    "## References\n",
    "\n",
    "[1] Zhenqin Wu, Bharath Ramsundar, Evan N Feinberg, Joseph Gomes, Caleb Geniesse, Aneesh SPappu, Karl Leswing, and Vijay Pande. Moleculenet: a benchmark for molecular machine learning. Chemical Science, 9(2):513–530, 2018.\n",
    "\n",
    "[2] Greg Landrum et al. RDKit: Open-source cheminformatics, 2006.\n",
    "\n",
    "[3] Eric Anderson, Gilman D. Veith, and David Weininger. SMILES: a line notation and computerized interpreter for chemical structures, 1987.\n",
    "\n",
    "[4] Weihua Hu, Bowen Liu, Joseph Gomes, Marinka Zitnik, Percy Liang, Vijay Pande, and Jure Leskovec.Strategies for pre-training graph neural networks. In International Conference on Learning Representations (ICLR), 2020.\n",
    "\n",
    "[5] Hu, W., Fey, M., Zitnik, M., Dong, Y., Ren, H., Liu, B., ... & Leskovec, J. (2020). Open graph benchmark: Datasets for machine learning on graphs. Advances in neural information processing systems, 33, 22118-22133.\n",
    "\n",
    "cs224w colab 2\n",
    "https://colab.research.google.com/drive/1BRPw3WQjP8ANSFz-4Z1ldtNt9g7zm-bv?usp=sharing\n",
    "\n",
    "https://ogb.stanford.edu/docs/graphprop/#ogbg-mol\n",
    "\n",
    "License: MIT"
   ]
  },
  {
   "cell_type": "markdown",
   "id": "277e8d60",
   "metadata": {},
   "source": []
  }
 ],
 "metadata": {
  "kernelspec": {
   "display_name": "Python 3 (ipykernel)",
   "language": "python",
   "name": "python3"
  },
  "language_info": {
   "codemirror_mode": {
    "name": "ipython",
    "version": 3
   },
   "file_extension": ".py",
   "mimetype": "text/x-python",
   "name": "python",
   "nbconvert_exporter": "python",
   "pygments_lexer": "ipython3",
   "version": "3.8.9"
  },
  "vscode": {
   "interpreter": {
    "hash": "31f2aee4e71d21fbe5cf8b01ff0e069b9275f58929596ceb00d14d90e3e16cd6"
   }
  }
 },
 "nbformat": 4,
 "nbformat_minor": 5
}
