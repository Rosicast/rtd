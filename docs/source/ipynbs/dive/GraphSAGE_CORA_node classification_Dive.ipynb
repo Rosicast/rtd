{
 "cells": [
  {
   "cell_type": "markdown",
   "id": "87c72ace",
   "metadata": {},
   "source": [
    "# GraphSAGE\n",
    "\n",
    "Thanks to cs224w colab 3\n",
    "\n",
    "In Colab 2 we constructed GNN models by using PyTorch Geometric's built in GCN layer, `GCNConv`. In this Colab we will go a step deeper and implement the **GraphSAGE** ([Hamilton et al. (2017)](https://arxiv.org/abs/1706.02216)) layer directly. Then we will run our models on the CORA dataset, which is a standard citation network benchmark dataset.\n",
    "\n",
    "**Note**: Make sure to **sequentially run all the cells in each section** so that the intermediate variables / packages will carry over to the next cell\n",
    "\n",
    "Have fun and good luck on Colab 3 :)"
   ]
  },
  {
   "cell_type": "markdown",
   "id": "499600ec",
   "metadata": {},
   "source": [
    "## Installation"
   ]
  },
  {
   "cell_type": "code",
   "execution_count": 1,
   "id": "7259e422",
   "metadata": {
    "scrolled": true
   },
   "outputs": [
    {
     "name": "stdout",
     "output_type": "stream",
     "text": [
      "Looking in links: https://pytorch-geometric.com/whl/torch-1.9.0+cu111.html\n",
      "Requirement already satisfied: torch-scatter in c:\\users\\user\\anaconda3\\envs\\gnn\\lib\\site-packages (2.0.9)\n",
      "Looking in links: https://pytorch-geometric.com/whl/torch-1.9.0+cu111.html\n",
      "Requirement already satisfied: torch-sparse in c:\\users\\user\\anaconda3\\envs\\gnn\\lib\\site-packages (0.6.13)\n",
      "Requirement already satisfied: scipy in c:\\users\\user\\anaconda3\\envs\\gnn\\lib\\site-packages (from torch-sparse) (1.7.3)\n",
      "Requirement already satisfied: numpy<1.23.0,>=1.16.5 in c:\\users\\user\\anaconda3\\envs\\gnn\\lib\\site-packages (from scipy->torch-sparse) (1.21.6)\n",
      "Requirement already satisfied: torch-geometric in c:\\users\\user\\anaconda3\\envs\\gnn\\lib\\site-packages (2.0.4)\n",
      "Requirement already satisfied: scikit-learn in c:\\users\\user\\anaconda3\\envs\\gnn\\lib\\site-packages (from torch-geometric) (1.0.2)\n",
      "Requirement already satisfied: requests in c:\\users\\user\\anaconda3\\envs\\gnn\\lib\\site-packages (from torch-geometric) (2.28.1)\n",
      "Requirement already satisfied: tqdm in c:\\users\\user\\anaconda3\\envs\\gnn\\lib\\site-packages (from torch-geometric) (4.64.0)\n",
      "Requirement already satisfied: pyparsing in c:\\users\\user\\anaconda3\\envs\\gnn\\lib\\site-packages (from torch-geometric) (3.0.9)\n",
      "Requirement already satisfied: numpy in c:\\users\\user\\anaconda3\\envs\\gnn\\lib\\site-packages (from torch-geometric) (1.21.6)\n",
      "Requirement already satisfied: pandas in c:\\users\\user\\anaconda3\\envs\\gnn\\lib\\site-packages (from torch-geometric) (1.3.5)\n",
      "Requirement already satisfied: scipy in c:\\users\\user\\anaconda3\\envs\\gnn\\lib\\site-packages (from torch-geometric) (1.7.3)\n",
      "Requirement already satisfied: jinja2 in c:\\users\\user\\anaconda3\\envs\\gnn\\lib\\site-packages (from torch-geometric) (3.1.2)\n",
      "Requirement already satisfied: MarkupSafe>=2.0 in c:\\users\\user\\anaconda3\\envs\\gnn\\lib\\site-packages (from jinja2->torch-geometric) (2.1.1)\n",
      "Requirement already satisfied: pytz>=2017.3 in c:\\users\\user\\anaconda3\\envs\\gnn\\lib\\site-packages (from pandas->torch-geometric) (2022.1)\n",
      "Requirement already satisfied: python-dateutil>=2.7.3 in c:\\users\\user\\anaconda3\\envs\\gnn\\lib\\site-packages (from pandas->torch-geometric) (2.8.2)\n",
      "Requirement already satisfied: idna<4,>=2.5 in c:\\users\\user\\anaconda3\\envs\\gnn\\lib\\site-packages (from requests->torch-geometric) (3.3)\n",
      "Requirement already satisfied: charset-normalizer<3,>=2 in c:\\users\\user\\anaconda3\\envs\\gnn\\lib\\site-packages (from requests->torch-geometric) (2.0.4)\n",
      "Requirement already satisfied: certifi>=2017.4.17 in c:\\users\\user\\anaconda3\\envs\\gnn\\lib\\site-packages (from requests->torch-geometric) (2022.6.15)\n",
      "Requirement already satisfied: urllib3<1.27,>=1.21.1 in c:\\users\\user\\anaconda3\\envs\\gnn\\lib\\site-packages (from requests->torch-geometric) (1.26.11)\n",
      "Requirement already satisfied: threadpoolctl>=2.0.0 in c:\\users\\user\\anaconda3\\envs\\gnn\\lib\\site-packages (from scikit-learn->torch-geometric) (2.2.0)\n",
      "Requirement already satisfied: joblib>=0.11 in c:\\users\\user\\anaconda3\\envs\\gnn\\lib\\site-packages (from scikit-learn->torch-geometric) (1.1.0)\n",
      "Requirement already satisfied: colorama in c:\\users\\user\\anaconda3\\envs\\gnn\\lib\\site-packages (from tqdm->torch-geometric) (0.4.5)\n",
      "Requirement already satisfied: six>=1.5 in c:\\users\\user\\anaconda3\\envs\\gnn\\lib\\site-packages (from python-dateutil>=2.7.3->pandas->torch-geometric) (1.16.0)\n",
      "^C\n"
     ]
    }
   ],
   "source": [
    "import os\n",
    "if 'IS_GRADESCOPE_ENV' not in os.environ:\n",
    "  !pip install torch-scatter -f https://pytorch-geometric.com/whl/torch-1.9.0+cu111.html\n",
    "  !pip install torch-sparse -f https://pytorch-geometric.com/whl/torch-1.9.0+cu111.html\n",
    "  !pip install torch-geometric\n",
    "  !pip install -q git+https://github.com/snap-stanford/deepsnap.git"
   ]
  },
  {
   "cell_type": "code",
   "execution_count": 1,
   "id": "c93a328c",
   "metadata": {},
   "outputs": [
    {
     "data": {
      "text/plain": [
       "'2.0.4'"
      ]
     },
     "execution_count": 1,
     "metadata": {},
     "output_type": "execute_result"
    }
   ],
   "source": [
    "import os\n",
    "import torch_geometric\n",
    "torch_geometric.__version__"
   ]
  },
  {
   "cell_type": "markdown",
   "id": "9a273bc8",
   "metadata": {},
   "source": [
    "## CORA data\n",
    "\n",
    "The Cora dataset consists of 2708 scientific publications classified into one of seven classes. The citation network consists of 5429 links. Each publication in the dataset is described by a 0/1-valued word vector indicating the absence/presence of the corresponding word from the dictionary. The dictionary consists of 1433 unique words."
   ]
  },
  {
   "cell_type": "code",
   "execution_count": 9,
   "id": "3ece76e5",
   "metadata": {},
   "outputs": [],
   "source": [
    "  class objectview(object):\n",
    "    def __init__(self, d):\n",
    "        self.__dict__ = d"
   ]
  },
  {
   "cell_type": "code",
   "execution_count": 25,
   "id": "acdd75f7",
   "metadata": {},
   "outputs": [],
   "source": [
    "args = {\n",
    "  'model_type': 'GraphSage', \n",
    "  'dataset': 'cora',\n",
    "  'num_layers': 2,\n",
    "  'heads': 1,\n",
    "  'batch_size': 32,\n",
    "  'hidden_dim': 32,\n",
    "  'dropout': 0.5,\n",
    "  'epochs': 500,\n",
    "  'opt': 'adam',\n",
    "  'opt_scheduler': 'none',\n",
    "  'opt_restart': 0,\n",
    "  'weight_decay': 5e-3,\n",
    "  'lr': 0.01}\n",
    "\n",
    "args = objectview(args)"
   ]
  },
  {
   "cell_type": "code",
   "execution_count": 3,
   "id": "dec20c44",
   "metadata": {},
   "outputs": [],
   "source": [
    "from torch_geometric.datasets import Planetoid"
   ]
  },
  {
   "cell_type": "code",
   "execution_count": 4,
   "id": "5c0fcf25",
   "metadata": {},
   "outputs": [],
   "source": [
    "dataset = Planetoid(root='/tmp/cora', name='Cora')"
   ]
  },
  {
   "cell_type": "code",
   "execution_count": 5,
   "id": "3a2bf75e",
   "metadata": {},
   "outputs": [
    {
     "data": {
      "text/plain": [
       "Cora()"
      ]
     },
     "execution_count": 5,
     "metadata": {},
     "output_type": "execute_result"
    }
   ],
   "source": [
    "dataset"
   ]
  },
  {
   "cell_type": "code",
   "execution_count": 6,
   "id": "f28d0cbc",
   "metadata": {},
   "outputs": [],
   "source": [
    "from torch_geometric.data import DataLoader"
   ]
  },
  {
   "cell_type": "code",
   "execution_count": 26,
   "id": "ddefe663",
   "metadata": {},
   "outputs": [
    {
     "name": "stderr",
     "output_type": "stream",
     "text": [
      "/home/user/anaconda3/envs/gnn/lib/python3.7/site-packages/torch_geometric/deprecation.py:12: UserWarning: 'data.DataLoader' is deprecated, use 'loader.DataLoader' instead\n",
      "  warnings.warn(out)\n"
     ]
    }
   ],
   "source": [
    "test_loader = loader = DataLoader(dataset, batch_size=args.batch_size, shuffle=False)"
   ]
  },
  {
   "cell_type": "code",
   "execution_count": 29,
   "id": "199bef6f",
   "metadata": {},
   "outputs": [
    {
     "name": "stdout",
     "output_type": "stream",
     "text": [
      "DataBatch(x=[2708, 1433], edge_index=[2, 10556], y=[2708], train_mask=[2708], val_mask=[2708], test_mask=[2708], batch=[2708], ptr=[2])\n",
      "1\n"
     ]
    }
   ],
   "source": [
    "batch_i = 0\n",
    "for batch in loader:\n",
    "    print(batch)\n",
    "    batch_i = batch_i +1\n",
    "\n",
    "print(batch_i)"
   ]
  },
  {
   "cell_type": "code",
   "execution_count": 32,
   "id": "697c1385",
   "metadata": {},
   "outputs": [
    {
     "data": {
      "text/plain": [
       "torch_geometric.data.batch.DataBatch"
      ]
     },
     "execution_count": 32,
     "metadata": {},
     "output_type": "execute_result"
    }
   ],
   "source": [
    "type(batch)"
   ]
  },
  {
   "cell_type": "code",
   "execution_count": 58,
   "id": "2618b1fc",
   "metadata": {},
   "outputs": [
    {
     "name": "stdout",
     "output_type": "stream",
     "text": [
      "Dataset: Cora():\n",
      "======================\n",
      "Number of graphs: 1\n",
      "Number of features: 1433\n",
      "Number of classes: 7\n",
      "==============================================================\n",
      "Number of nodes: 2708\n",
      "Number of node features: 1433\n",
      "Number of edges: 10556\n",
      "Number of edge features: 0\n",
      "Average node degree: 7.80\n",
      "========= split ======\n",
      "Number of training nodes: 140\n",
      "Training node label rate: 0.05\n",
      "Number of validation nodes: 500\n",
      "validation node label rate: 0.18\n",
      "Number of test nodes: 1000\n",
      "test node label rate: 0.37\n",
      "======== properties =======\n",
      "Contains isolated nodes: False\n",
      "Contains self-loops: False\n",
      "Is undirected: True\n",
      "Is directed: False\n"
     ]
    }
   ],
   "source": [
    "data = dataset[0]\n",
    "\n",
    "print(f'Dataset: {dataset}:')\n",
    "print('======================')\n",
    "print(f'Number of graphs: {len(dataset)}')\n",
    "print(f'Number of features: {dataset.num_features}')\n",
    "print(f'Number of classes: {dataset.num_classes}')\n",
    "\n",
    "print('==============================================================')\n",
    "\n",
    "# Gather some statistics about the graph.\n",
    "print(f'Number of nodes: {data.num_nodes}')\n",
    "print(f'Number of node features: {data.num_node_features}')\n",
    "print(f'Number of edges: {data.num_edges}')\n",
    "print(f'Number of edge features: {data.num_edge_features}')\n",
    "print(f'Average node degree: {(2*data.num_edges) / data.num_nodes:.2f}')\n",
    "\n",
    "print(\"============= split ==========\")\n",
    "\n",
    "print(f'Number of training nodes: {data.train_mask.sum()}')\n",
    "print(f'Training node label rate: {int(data.train_mask.sum()) / data.num_nodes:.2f}')\n",
    "print(f'Number of validation nodes: {data.val_mask.sum()}')\n",
    "print(f'validation node label rate: {int(data.val_mask.sum()) / data.num_nodes:.2f}')\n",
    "print(f'Number of test nodes: {data.test_mask.sum()}')\n",
    "print(f'test node label rate: {int(data.test_mask.sum()) / data.num_nodes:.2f}')\n",
    "\n",
    "print(\"============ properties ===========\")\n",
    "print(f'Contains isolated nodes: {data.has_isolated_nodes()}')\n",
    "print(f'Contains self-loops: {data.has_self_loops()}')\n",
    "print(f'Is undirected: {data.is_undirected()}')\n",
    "print(f'Is directed: {data.is_directed()}')\n"
   ]
  },
  {
   "cell_type": "code",
   "execution_count": 39,
   "id": "e6ad5a2b",
   "metadata": {},
   "outputs": [
    {
     "data": {
      "text/plain": [
       "['val_mask', 'y', 'edge_index', 'train_mask', 'batch', 'ptr', 'test_mask', 'x']"
      ]
     },
     "execution_count": 39,
     "metadata": {},
     "output_type": "execute_result"
    }
   ],
   "source": [
    "data.keys"
   ]
  },
  {
   "cell_type": "code",
   "execution_count": 42,
   "id": "9bb219d7",
   "metadata": {},
   "outputs": [
    {
     "data": {
      "text/plain": [
       "tensor([   0, 2708])"
      ]
     },
     "execution_count": 42,
     "metadata": {},
     "output_type": "execute_result"
    }
   ],
   "source": [
    "batch.ptr"
   ]
  },
  {
   "cell_type": "code",
   "execution_count": 47,
   "id": "a85149b4",
   "metadata": {},
   "outputs": [
    {
     "data": {
      "text/plain": [
       "tensor([[   0,    0,    0,  ..., 2707, 2707, 2707],\n",
       "        [ 633, 1862, 2582,  ...,  598, 1473, 2706]])"
      ]
     },
     "execution_count": 47,
     "metadata": {},
     "output_type": "execute_result"
    }
   ],
   "source": [
    "batch.edge_index"
   ]
  },
  {
   "cell_type": "markdown",
   "id": "fc218834",
   "metadata": {},
   "source": [
    "`batch.edge_index[0]`: from node i\n",
    "\n",
    "`batch.edge_index[1]`: to node j"
   ]
  },
  {
   "cell_type": "code",
   "execution_count": 44,
   "id": "50af1281",
   "metadata": {},
   "outputs": [
    {
     "data": {
      "text/plain": [
       "tensor([ 633, 1862, 2582,  ...,  598, 1473, 2706])"
      ]
     },
     "execution_count": 44,
     "metadata": {},
     "output_type": "execute_result"
    }
   ],
   "source": [
    "batch.edge_index[1]"
   ]
  },
  {
   "cell_type": "code",
   "execution_count": 72,
   "id": "5f8fc99f",
   "metadata": {},
   "outputs": [
    {
     "data": {
      "text/plain": [
       "(tensor([   0,    1,    2,  ..., 2705, 2706, 2707]),\n",
       " tensor([3, 3, 5,  ..., 1, 4, 4]))"
      ]
     },
     "execution_count": 72,
     "metadata": {},
     "output_type": "execute_result"
    }
   ],
   "source": [
    "batch.edge_index[0].unique(return_counts=True)"
   ]
  },
  {
   "cell_type": "code",
   "execution_count": 74,
   "id": "f9e38d20",
   "metadata": {},
   "outputs": [
    {
     "name": "stdout",
     "output_type": "stream",
     "text": [
      "torch.Size([2708])\n",
      "torch.Size([2708])\n"
     ]
    }
   ],
   "source": [
    "print(batch.edge_index[0].unique(return_counts=True)[0].shape)\n",
    "print(batch.edge_index[0].unique(return_counts=True)[1].shape)"
   ]
  },
  {
   "cell_type": "code",
   "execution_count": 75,
   "id": "49748a53",
   "metadata": {},
   "outputs": [
    {
     "name": "stdout",
     "output_type": "stream",
     "text": [
      "torch.Size([2708])\n",
      "torch.Size([2708])\n"
     ]
    }
   ],
   "source": [
    "print(batch.edge_index[1].unique(return_counts=True)[0].shape)\n",
    "print(batch.edge_index[1].unique(return_counts=True)[1].shape)"
   ]
  },
  {
   "cell_type": "code",
   "execution_count": 76,
   "id": "e1916c5c",
   "metadata": {},
   "outputs": [
    {
     "data": {
      "text/plain": [
       "(tensor([  1,   2,   3,   4,   5,   6,   7,   8,   9,  10,  11,  12,  13,  14,\n",
       "          15,  16,  17,  18,  19,  21,  22,  23,  26,  29,  30,  31,  32,  33,\n",
       "          34,  36,  40,  42,  44,  65,  74,  78, 168]),\n",
       " tensor([485, 583, 553, 389, 281, 131,  82,  57,  25,  26,  14,  18,   5,   6,\n",
       "           6,   7,   8,   3,   5,   3,   1,   3,   1,   1,   2,   1,   2,   1,\n",
       "           1,   1,   1,   1,   1,   1,   1,   1,   1]))"
      ]
     },
     "execution_count": 76,
     "metadata": {},
     "output_type": "execute_result"
    }
   ],
   "source": [
    "batch.edge_index[0].unique(return_counts=True)[1].unique(return_counts=True)"
   ]
  },
  {
   "cell_type": "code",
   "execution_count": 77,
   "id": "9e72187a",
   "metadata": {},
   "outputs": [
    {
     "data": {
      "text/plain": [
       "(tensor([  1,   2,   3,   4,   5,   6,   7,   8,   9,  10,  11,  12,  13,  14,\n",
       "          15,  16,  17,  18,  19,  21,  22,  23,  26,  29,  30,  31,  32,  33,\n",
       "          34,  36,  40,  42,  44,  65,  74,  78, 168]),\n",
       " tensor([485, 583, 553, 389, 281, 131,  82,  57,  25,  26,  14,  18,   5,   6,\n",
       "           6,   7,   8,   3,   5,   3,   1,   3,   1,   1,   2,   1,   2,   1,\n",
       "           1,   1,   1,   1,   1,   1,   1,   1,   1]))"
      ]
     },
     "execution_count": 77,
     "metadata": {},
     "output_type": "execute_result"
    }
   ],
   "source": [
    "batch.edge_index[1].unique(return_counts=True)[1].unique(return_counts=True)"
   ]
  },
  {
   "cell_type": "code",
   "execution_count": 35,
   "id": "d248dbda",
   "metadata": {},
   "outputs": [
    {
     "data": {
      "text/plain": [
       "DataBatch(x=[2708, 1433], edge_index=[2, 10556], y=[2708], train_mask=[2708], val_mask=[2708], test_mask=[2708], batch=[2708], ptr=[2])"
      ]
     },
     "execution_count": 35,
     "metadata": {},
     "output_type": "execute_result"
    }
   ],
   "source": [
    "batch"
   ]
  },
  {
   "cell_type": "code",
   "execution_count": 48,
   "id": "8220f854",
   "metadata": {},
   "outputs": [
    {
     "data": {
      "text/plain": [
       "tensor([ True,  True,  True,  ..., False, False, False])"
      ]
     },
     "execution_count": 48,
     "metadata": {},
     "output_type": "execute_result"
    }
   ],
   "source": [
    "batch.train_mask"
   ]
  },
  {
   "cell_type": "code",
   "execution_count": 49,
   "id": "fd8712b5",
   "metadata": {},
   "outputs": [
    {
     "data": {
      "text/plain": [
       "(tensor([False,  True]), tensor([2568,  140]))"
      ]
     },
     "execution_count": 49,
     "metadata": {},
     "output_type": "execute_result"
    }
   ],
   "source": [
    "batch.train_mask.unique(return_counts=True)"
   ]
  },
  {
   "cell_type": "code",
   "execution_count": 50,
   "id": "cee4895e",
   "metadata": {},
   "outputs": [
    {
     "data": {
      "text/plain": [
       "(tensor([False,  True]), tensor([2208,  500]))"
      ]
     },
     "execution_count": 50,
     "metadata": {},
     "output_type": "execute_result"
    }
   ],
   "source": [
    "batch.val_mask.unique(return_counts=True)"
   ]
  },
  {
   "cell_type": "code",
   "execution_count": 51,
   "id": "8dba602a",
   "metadata": {},
   "outputs": [
    {
     "data": {
      "text/plain": [
       "(tensor([False,  True]), tensor([1708, 1000]))"
      ]
     },
     "execution_count": 51,
     "metadata": {},
     "output_type": "execute_result"
    }
   ],
   "source": [
    "batch.test_mask.unique(return_counts=True)"
   ]
  },
  {
   "cell_type": "code",
   "execution_count": 54,
   "id": "ed069be1",
   "metadata": {},
   "outputs": [
    {
     "data": {
      "text/plain": [
       "tensor([0])"
      ]
     },
     "execution_count": 54,
     "metadata": {},
     "output_type": "execute_result"
    }
   ],
   "source": [
    "batch.batch.unique()"
   ]
  },
  {
   "cell_type": "code",
   "execution_count": 55,
   "id": "9b2f53bb",
   "metadata": {},
   "outputs": [
    {
     "data": {
      "text/plain": [
       "tensor([   0, 2708])"
      ]
     },
     "execution_count": 55,
     "metadata": {},
     "output_type": "execute_result"
    }
   ],
   "source": [
    "batch.ptr"
   ]
  },
  {
   "cell_type": "markdown",
   "id": "3611fe13",
   "metadata": {},
   "source": [
    "`x=[2708, 1433]`: `[num_nodes, num_node_features]` Each publication in the dataset is described by a 0/1-valued word vector indicating the absence/presence of the corresponding word from the dictionary. The dictionary consists of 1433 unique words.\n",
    "\n",
    "`edge_index=[2, 10556]`: Graph connectivity in COO format with shape [2, num_edges] and type torch.long If :obj:`edge_index` is of type :obj:`torch.LongTensor`, its shape must be defined as :obj:`[2, num_messages]`, where messages from nodes in :obj:`edge_index[0]` are sent to nodes in :obj:`edge_index[1]` [source](https://github.com/pyg-team/pytorch_geometric/blob/master/torch_geometric/nn/conv/message_passing.py)\n"
   ]
  },
  {
   "cell_type": "markdown",
   "id": "f3be1524",
   "metadata": {},
   "source": [
    "## GNN Layers"
   ]
  },
  {
   "cell_type": "markdown",
   "id": "e65b68dc",
   "metadata": {},
   "source": [
    "### Implementing Layer Modules\n",
    "\n",
    "In Colab 2, we implemented a GCN model for node and graph classification tasks. However, for that notebook we took advantage of PyG's built in GCN module. For Colab 3, we provide a build upon a general Graph Neural Network Stack, into which we will be able to plugin our own module implementations: GraphSAGE and GAT.\n",
    "\n",
    "We will then use our layer implemenations to complete node classification on the CORA dataset, a standard citation network benchmark. In this dataset, nodes correspond to documents and edges correspond to undirected citations. Each node or document in the graph is assigned a class label and features based on the documents binarized bag-of-words representation. Specifically, the Cora graph has 2708 nodes, 5429 edges, 7 prediction classes, and 1433 features per node. "
   ]
  },
  {
   "cell_type": "markdown",
   "id": "e202c718",
   "metadata": {},
   "source": [
    "### GNN Stack Module\n",
    "\n",
    "Below is the implementation of a general GNN stack, where we can plugin any GNN layer, such as **GraphSage**, **GAT**, etc. This module is provided for you. Your implementations of the **GraphSage** and **GAT** (Colab 4) layers will function as components in the GNNStack Module."
   ]
  },
  {
   "cell_type": "code",
   "execution_count": 88,
   "id": "ddc8a348",
   "metadata": {},
   "outputs": [],
   "source": [
    "import torch\n",
    "import torch_scatter\n",
    "import torch.nn as nn\n",
    "import torch.nn.functional as F\n",
    "\n",
    "import torch_geometric.nn as pyg_nn\n",
    "import torch_geometric.utils as pyg_utils\n",
    "\n",
    "from torch import Tensor\n",
    "from typing import Union, Tuple, Optional\n",
    "from torch_geometric.typing import (OptPairTensor, Adj, Size, NoneType,\n",
    "                                    OptTensor)\n",
    "\n",
    "from torch.nn import Parameter, Linear\n",
    "from torch_sparse import SparseTensor, set_diag\n",
    "from torch_geometric.nn.conv import MessagePassing\n",
    "from torch_geometric.utils import remove_self_loops, add_self_loops, softmax\n",
    "\n",
    "class GNNStack(torch.nn.Module):\n",
    "    def __init__(self, input_dim, hidden_dim, output_dim, args, emb=False):\n",
    "        super(GNNStack, self).__init__()\n",
    "        conv_model = self.build_conv_model(args.model_type)\n",
    "        self.convs = nn.ModuleList()\n",
    "        self.convs.append(conv_model(input_dim, hidden_dim))\n",
    "        assert (args.num_layers >= 1), 'Number of layers is not >=1'\n",
    "        for l in range(args.num_layers-1):\n",
    "            self.convs.append(conv_model(args.heads * hidden_dim, hidden_dim))\n",
    "\n",
    "        # post-message-passing\n",
    "        self.post_mp = nn.Sequential(\n",
    "            nn.Linear(args.heads * hidden_dim, hidden_dim), nn.Dropout(args.dropout), \n",
    "            nn.Linear(hidden_dim, output_dim))\n",
    "\n",
    "        self.dropout = args.dropout\n",
    "        self.num_layers = args.num_layers\n",
    "\n",
    "        self.emb = emb\n",
    "\n",
    "    def build_conv_model(self, model_type):\n",
    "        if model_type == 'GraphSage':\n",
    "            return GraphSage\n",
    "        elif model_type == 'GAT':\n",
    "            # When applying GAT with num heads > 1, you need to modify the \n",
    "            # input and output dimension of the conv layers (self.convs),\n",
    "            # to ensure that the input dim of the next layer is num heads\n",
    "            # multiplied by the output dim of the previous layer.\n",
    "            # HINT: In case you want to play with multiheads, you need to change the for-loop that builds up self.convs to be\n",
    "            # self.convs.append(conv_model(hidden_dim * num_heads, hidden_dim)), \n",
    "            # and also the first nn.Linear(hidden_dim * num_heads, hidden_dim) in post-message-passing.\n",
    "            return GAT\n",
    "\n",
    "    def forward(self, data):\n",
    "        x, edge_index, batch = data.x, data.edge_index, data.batch\n",
    "          \n",
    "        for i in range(self.num_layers):\n",
    "            x = self.convs[i](x, edge_index)\n",
    "            x = F.relu(x)\n",
    "            x = F.dropout(x, p=self.dropout,training=self.training)\n",
    "\n",
    "        x = self.post_mp(x)\n",
    "\n",
    "        if self.emb == True:\n",
    "            return x\n",
    "\n",
    "        return F.log_softmax(x, dim=1)\n",
    "\n",
    "    def loss(self, pred, label):\n",
    "        return F.nll_loss(pred, label)"
   ]
  },
  {
   "cell_type": "markdown",
   "id": "03d7b4e3",
   "metadata": {},
   "source": [
    "### Creating Our Own Message Passing Layer\n",
    "\n",
    "Now let's start implementing our own message passing layers! Working through this part will help us become acutely familiar with the behind the scenes work of implementing Pytorch Message Passing Layers, allowing us to build our own GNN models. To do so, we will work with and implement 3 critcal functions needed to define a PyG Message Passing Layer: `forward`, `message`, and `aggregate`.\n",
    "\n",
    "Before diving head first into the coding details, let us quickly review the key components of the message passing process. To do so, we will focus on a single round of messsage passing with respect to a single central node $x$. Before message passing, $x$ is associated with a feature vector $x^{l-1}$, and the goal of message passing is to update this feature vector as $x^l$. To do so, we implement the following steps: \n",
    "    \n",
    "1. each neighboring node $v$ passes its current message $v^{l-1}$ across the edge $(x, v)$ \n",
    "\n",
    "2. for the node $x$, we aggregate all of the messages of the neighboring nodes (for example through a sum or mean)\n",
    "\n",
    "3. we transform the aggregated information by for example applying linear and non-linear transformations. \n",
    "\n",
    "Altogether, the message passing process is applied such that every node $u$ in our graph updates its embedding by acting as the central node $x$ in step 1-3 described above. \n",
    "\n",
    "Now, we extending this process to that of a single message passing layer, the job of a message passing layer is to update the current feature representation or embedding of each node in a graph by propagating and transforming information within the graph. Overall, the general paradigm of a message passing layers is: 1) pre-processing -> 2) **message passing** / propagation -> 3) post-processing. \n",
    "\n",
    "The `forward` fuction that we will implement for our message passing layer captures this execution logic. Namely, the `forward` function handles the pre and post-processing of node features / embeddings, as well as initiates message passing by calling the `propagate` function. \n",
    "\n",
    "\n",
    "The `propagate` function encapsulates the message passing process! It does so by calling three important functions: 1) `message`, 2) `aggregate`, and 3) `update`. Our implementation will vary slightly from this, as we will not explicitly implement `update`, but instead place the logic for updating node embeddings after message passing and within the `forward` function. To be more specific, after information is propagated (message passing), we can further transform the node embeddings outputed by `propagate`. Therefore, the output of `forward` is exactly the node embeddings after one GNN layer.\n",
    "\n",
    "Lastly, before starting to implement our own layer, let us dig a bit deeper into each of the functions described above:\n",
    "\n",
    "1. \n",
    "\n",
    "```\n",
    "def propagate(edge_index, x=(x_i, x_j), extra=(extra_i, extra_j), size=size):\n",
    "```\n",
    "Calling `propagate` initiates the message passing process. Looking at the function parameters, we highlight a couple of key parameters. \n",
    "\n",
    "  - `edge_index` is passed to the forward function and captures the edge structure of the graph.\n",
    "  - `x=(x_i, x_j)` represents the node features that will be used in message passing. In order to explain why we pass the tuple `(x_i, x_j)`, we first look at how our edges are represented. For every edge $(i, j) \\in \\mathcal{E}$, we can differentiate $i$ as the source or central node ($x_{central}$) and j as the neighboring node ($x_{neighbor}$). \n",
    "  \n",
    "    Taking the example of message passing above, for a central node $u$ we will aggregate and transform all of the messages associated with the nodes $v$ s.t. $(u, v) \\in \\mathcal{E}$ (i.e. $v \\in \\mathcal{N}_{u}$). Thus we see, the subscripts `_i` and `_j` allow us to specifcally differenciate features associated with central nodes (i.e. nodes  recieving message information) and neighboring nodes (i.e. nodes passing messages). \n",
    "\n",
    "    This is definitely a somewhat confusing concept; however, one key thing to remember / wrap your head around is that depending on the perspective, a node $x$ acts as a central node or a neighboring node. In fact, in undirected graphs we store both edge directions (i.e. $(i, j)$ and $(j, i)$). From the central node perspective, `x_i`, x is collecting neighboring information to update its embedding. From a neighboring node perspective, `x_j`, x is passing its message information along the edge connecting it to a different central node.\n",
    "\n",
    "  - `extra=(extra_i, extra_j)` represents additional information that we can associate with each node beyond its current feature embedding. In fact, we can include as many additional parameters of the form `param=(param_i, param_j)` as we would like. Again, we highlight that indexing with `_i` and `_j` allows us to differentiate central and neighboring nodes. \n",
    "\n",
    "  The output of the `propagate` function is a matrix of node embeddings after the message passing process and has shape $[N, d]$.\n",
    "\n",
    "2. \n",
    "```\n",
    "def message(x_j, ...):\n",
    "```\n",
    "The `message` function is called by propagate and constructs the messages from\n",
    "neighboring nodes $j$ to central nodes $i$ for each edge $(i, j)$ in *edge_index*. This function can take any argument that was initially passed to `propagate`. Furthermore, we can again differentiate central nodes and neighboring nodes by appending `_i` or `_j` to the variable name, .e.g. `x_i` and `x_j`. Looking more specifically at the variables, we have:\n",
    "\n",
    "  - `x_j` represents a matrix of feature embeddings for all neighboring nodes passing their messages along their respective edge (i.e. all nodes $j$ for edges $(i, j) \\in \\mathcal{E}$). Thus, its shape is $[|\\mathcal{E}|, d]$!\n",
    "  - In implementing GAT we will see how to access additional variables passed to propagate\n",
    "\n",
    "  Critically, we see that the output of the `message` function is a matrix of neighboring node embeddings ready to be aggregated, having shape $[|\\mathcal{E}|, d]$.\n",
    "\n",
    "3. \n",
    "```\n",
    "def aggregate(self, inputs, index, dim_size = None):\n",
    "```\n",
    "Lastly, the `aggregate` function is used to aggregate the messages from neighboring nodes. Looking at the parameters we highlight:\n",
    "\n",
    "  - `inputs` represents a matrix of the messages passed from neighboring nodes (i.e. the output of the `message` function).\n",
    "  - `index` has the same shape as `inputs` and tells us the central node that corresponding to each of the rows / messages $j$ in the `inputs` matrix. Thus, `index` tells us which rows / messages to aggregate for each central node.\n",
    "\n",
    "  The output of `aggregate` is of shape $[N, d]$.\n",
    "\n",
    "\n",
    "For additional resources refer to the PyG documentation for implementing custom message passing layers: https://pytorch-geometric.readthedocs.io/en/latest/notes/create_gnn.html"
   ]
  },
  {
   "cell_type": "markdown",
   "id": "251a0006",
   "metadata": {},
   "source": [
    "### GraphSage Implementation\n",
    "\n",
    "For our first GNN layer, we will implement the well known GraphSage ([Hamilton et al. (2017)](https://arxiv.org/abs/1706.02216)) layer! \n",
    "\n",
    "For a given *central* node $v$ with current embedding $h_v^{l-1}$, the message passing update rule to tranform $h_v^{l-1} \\rightarrow h_v^l$ is as follows: \n",
    "\n",
    "\\begin{equation}\n",
    "h_v^{(l)} = W_l\\cdot h_v^{(l-1)} + W_r \\cdot AGG(\\{h_u^{(l-1)}, \\forall u \\in N(v) \\})\n",
    "\\end{equation}\n",
    "\n",
    "where $W_1$ and $W_2$ are learanble weight matrices and the nodes $u$ are *neighboring* nodes. Additionally, we use mean aggregation for simplicity:\n",
    "\n",
    "\\begin{equation}\n",
    "AGG(\\{h_u^{(l-1)}, \\forall u \\in N(v) \\}) = \\frac{1}{|N(v)|} \\sum_{u\\in N(v)} h_u^{(l-1)}\n",
    "\\end{equation}\n",
    "\n",
    "One thing to note is that we're adding a **skip connection** to our GraphSage implementation through the term $W_l\\cdot h_v^{(l-1)}$. \n",
    "\n",
    "Before implementing this update rule, we encourage you to think about how different parts of the formulas above correspond with the functions outlined earlier: 1) `forward`, 2) `message`, and 3) `aggregate`. As a hint, we are given what the aggregation function is (i.e. mean aggregation)! Now the question remains, what are the messages passed by each neighbor nodes and when do we call the `propagate` function? \n",
    "\n",
    "Note: in this case the message function or messages are actually quite simple. Additionally, remember that the `propagate` function encapsulates the operations of / the outputs of the combined `message` and `aggregate` functions.\n",
    "\n",
    "\n",
    "Lastly, $\\ell$-2 normalization of the node embeddings is applied after each iteration.\n",
    "\n",
    "\n",
    "<font color='red'>For the following questions, DON'T refer to any existing implementations online.</font>"
   ]
  },
  {
   "cell_type": "code",
   "execution_count": 121,
   "id": "c669d099",
   "metadata": {},
   "outputs": [],
   "source": [
    "class GraphSage(MessagePassing):\n",
    "    \n",
    "    def __init__(self, in_channels, out_channels, normalize = True,\n",
    "                 bias = False, **kwargs):  \n",
    "        super(GraphSage, self).__init__(**kwargs)\n",
    "\n",
    "        self.in_channels = in_channels\n",
    "        self.out_channels = out_channels\n",
    "        self.normalize = normalize\n",
    "\n",
    "        self.lin_l = None\n",
    "        self.lin_r = None\n",
    "\n",
    "        ############################################################################\n",
    "        # TODO: Your code here! \n",
    "        # Define the layers needed for the message and update functions below.\n",
    "        # self.lin_l is the linear transformation that you apply to embedding \n",
    "        #            for central node.\n",
    "        # self.lin_r is the linear transformation that you apply to aggregated \n",
    "        #            message from neighbors.\n",
    "        # Don't forget the bias!\n",
    "        # Our implementation is ~2 lines, but don't worry if you deviate from this.\n",
    "        \n",
    "        print(f\"in_channels: {self.in_channels}\")\n",
    "        print(f\"out_channels: {self.out_channels}\")\n",
    "        \n",
    "        self.lin_l = nn.Linear(self.in_channels, self.out_channels, bias=True)\n",
    "        self.lin_r = nn.Linear(self.in_channels, self.out_channels, bias=True)\n",
    "\n",
    "        ############################################################################\n",
    "\n",
    "        self.reset_parameters()\n",
    "\n",
    "    def reset_parameters(self):\n",
    "        self.lin_l.reset_parameters()\n",
    "        self.lin_r.reset_parameters()\n",
    "\n",
    "    def forward(self, x, edge_index, size = None):\n",
    "        \"\"\"\"\"\"\n",
    "\n",
    "        out = None\n",
    "\n",
    "        ############################################################################\n",
    "        # TODO: Your code here! \n",
    "        # Implement message passing, as well as any post-processing (our update rule).\n",
    "        # 1. Call the propagate function to conduct the message passing.\n",
    "        #    1.1 See the description of propagate above or the following link for more information: \n",
    "        #        https://pytorch-geometric.readthedocs.io/en/latest/notes/create_gnn.html\n",
    "        #    1.2 We will only use the representation for neighbor nodes (x_j), so by default\n",
    "        #        we pass the same representation for central and neighbor nodes as x=(x, x). \n",
    "        # 2. Update our node embedding with skip connection from the previous layer.\n",
    "        # 3. If normalize is set, do L-2 normalization (defined in \n",
    "        #    torch.nn.functional)\n",
    "        #\n",
    "        # Our implementation is ~5 lines, but don't worry if you deviate from this.\n",
    "        \n",
    "        # 1. Call the propagate function to conduct the message passing.\n",
    "        # 1.2 we pass the same representation for central and neighbor nodes as x=(x, x)\n",
    "        print()\n",
    "        print()\n",
    "        print(\"=============== in SAGE layer ===============\")\n",
    "        print(\"feed edge_index and x to a propagate func\")\n",
    "        print(f\"edge_index shape : {edge_index.shape}\")\n",
    "        print(f\"in x=(x, x), x shape : {x.shape}\")\n",
    "        print(\"x\")\n",
    "        print(x)\n",
    "        print(\"========= start propagate ========\")\n",
    "        \n",
    "        prop = self.propagate(edge_index, x=(x, x), size=size)\n",
    "        \n",
    "        print(\"===== propagate output ====\")\n",
    "        print(prop)\n",
    "        print(prop.shape)\n",
    "\n",
    "        # 2. Update our node embedding with skip connection from the previous layer.\n",
    "        out = self.lin_l(x) + self.lin_r(prop)\n",
    "        \n",
    "        print(\"====== lin_l(x) ====\")\n",
    "        print(self.lin_l(x))\n",
    "        print(self.lin_l(x).shape)\n",
    "        print(\"====== lin_r(prop) ====\")\n",
    "        print(self.lin_r(prop))\n",
    "        print(self.lin_r(prop).shape)\n",
    "        print(\"====== out = self.lin_l(x) + self.lin_r(prop) ====\")\n",
    "        print(out)\n",
    "        print(out.shape)\n",
    "        \n",
    "        \n",
    "\n",
    "        # 3. If normalize is set, do L-2 normalization \n",
    "        if self.normalize:\n",
    "            out = torch.nn.functional.normalize(out, p=2)\n",
    "        \n",
    "        print(\"==== out after norm ====\")\n",
    "        print(out)\n",
    "        print(out.shape)\n",
    "        ############################################################################\n",
    "\n",
    "        return out\n",
    "\n",
    "    def message(self, x_j):\n",
    "\n",
    "        out = None\n",
    "\n",
    "        ############################################################################\n",
    "        # TODO: Your code here! \n",
    "        # Implement your message function here.\n",
    "        # Hint: Look at the formulation of the mean aggregation function, focusing on \n",
    "        # what message each neighboring node passes.\n",
    "        #\n",
    "        # Our implementation is ~1 lines, but don't worry if you deviate from this.\n",
    "        \n",
    "        out = x_j\n",
    "        print(\"message: out = x_j\")\n",
    "        print(f\"message out shape {out.shape}\")\n",
    "        print(f\"message out {out}\")\n",
    "        \n",
    "        ############################################################################\n",
    "\n",
    "        return out\n",
    "\n",
    "    def aggregate(self, inputs, index, dim_size = None):\n",
    "\n",
    "        out = None\n",
    "\n",
    "        # The axis along which to index number of nodes.\n",
    "        node_dim = self.node_dim\n",
    "\n",
    "        ############################################################################\n",
    "        # TODO: Your code here! \n",
    "        # Implement your aggregate function here.\n",
    "        # See here as how to use torch_scatter.scatter: \n",
    "        # https://pytorch-scatter.readthedocs.io/en/latest/functions/scatter.html#torch_scatter.scatter\n",
    "        #\n",
    "        # Our implementation is ~1 lines, but don't worry if you deviate from this.\n",
    "        print(\"======= in aggregate func =======\")\n",
    "        print(f\"inputs.shape: {inputs.shape}\")\n",
    "        print(inputs)\n",
    "        print(f\"index.shape: {index.shape}\")\n",
    "        print(index)\n",
    "        print(f\"node_dim: {node_dim}\")\n",
    "        print(f\"dim_size: {dim_size}\")\n",
    "        \n",
    "        out = torch_scatter.scatter(inputs, index, node_dim, dim_size=dim_size, reduce='mean')\n",
    "        \n",
    "        print(f\"aggreate out shape {out.shape}\")\n",
    "        print(f\"aggregate out {out}\")\n",
    "        \n",
    "        ############################################################################\n",
    "\n",
    "        return out\n"
   ]
  },
  {
   "cell_type": "markdown",
   "id": "30d8897e",
   "metadata": {},
   "source": [
    "MessagePassing\n",
    "\n",
    "> propagate(edge_index: Union[Tensor, SparseTensor], size: Optional[Tuple[int, int]] = None, **kwargs)\n",
    "\n",
    "The initial call to start propagating messages.\n",
    "\n",
    "PARAMETERS\n",
    "\n",
    "* edge_index (Tensor or SparseTensor) – A torch.LongTensor or a torch_sparse.SparseTensor that defines the underlying graph connectivity/message passing flow. edge_index holds the indices of a general (sparse) assignment matrix of shape [N, M]. If edge_index is of type torch.LongTensor, its shape must be defined as [2, num_messages], where messages from nodes in edge_index[0] are sent to nodes in edge_index[1] (in case flow=\"source_to_target\"). If edge_index is of type torch_sparse.SparseTensor, its sparse indices (row, col) should relate to row = edge_index[1] and col = edge_index[0]. The major difference between both formats is that we need to input the transposed sparse adjacency matrix into propagate().\n",
    "\n",
    "\n",
    "* size (tuple, optional) – The size (N, M) of the assignment matrix in case edge_index is a LongTensor. If set to None, the size will be automatically inferred and assumed to be quadratic. This argument is ignored in case edge_index is a torch_sparse.SparseTensor. (default: None)\n",
    "\n",
    "\n",
    "* **kwargs – Any additional data which is needed to construct and aggregate messages, and to update node embeddings.\n",
    "\n",
    "From [official docs](https://pytorch-geometric.readthedocs.io/en/latest/modules/nn.html?highlight=MessagePassing#torch_geometric.nn.conv.MessagePassing.propagate) "
   ]
  },
  {
   "cell_type": "markdown",
   "id": "86dca0b7",
   "metadata": {},
   "source": [
    "### Building Optimizers\n",
    "\n",
    "This function has been implemented for you. **For grading purposes please use the default Adam optimizer**, but feel free to play with other types of optimizers on your own."
   ]
  },
  {
   "cell_type": "code",
   "execution_count": 62,
   "id": "3f79e451",
   "metadata": {},
   "outputs": [],
   "source": [
    "import torch.optim as optim\n",
    "\n",
    "def build_optimizer(args, params):\n",
    "    weight_decay = args.weight_decay\n",
    "    filter_fn = filter(lambda p : p.requires_grad, params)\n",
    "    if args.opt == 'adam':\n",
    "        optimizer = optim.Adam(filter_fn, lr=args.lr, weight_decay=weight_decay)\n",
    "    elif args.opt == 'sgd':\n",
    "        optimizer = optim.SGD(filter_fn, lr=args.lr, momentum=0.95, weight_decay=weight_decay)\n",
    "    elif args.opt == 'rmsprop':\n",
    "        optimizer = optim.RMSprop(filter_fn, lr=args.lr, weight_decay=weight_decay)\n",
    "    elif args.opt == 'adagrad':\n",
    "        optimizer = optim.Adagrad(filter_fn, lr=args.lr, weight_decay=weight_decay)\n",
    "    if args.opt_scheduler == 'none':\n",
    "        return None, optimizer\n",
    "    elif args.opt_scheduler == 'step':\n",
    "        scheduler = optim.lr_scheduler.StepLR(optimizer, step_size=args.opt_decay_step, gamma=args.opt_decay_rate)\n",
    "    elif args.opt_scheduler == 'cos':\n",
    "        scheduler = optim.lr_scheduler.CosineAnnealingLR(optimizer, T_max=args.opt_restart)\n",
    "    return scheduler, optimizer"
   ]
  },
  {
   "cell_type": "markdown",
   "id": "d4c0aab9",
   "metadata": {},
   "source": [
    "### Build the model"
   ]
  },
  {
   "cell_type": "code",
   "execution_count": 122,
   "id": "721b7932",
   "metadata": {},
   "outputs": [
    {
     "name": "stdout",
     "output_type": "stream",
     "text": [
      "input shape as num_node_features: 1433\n",
      "hidden_dim: 32\n",
      "output as num_classes: 7\n"
     ]
    }
   ],
   "source": [
    "# build model\n",
    "print(f\"input shape as num_node_features: {dataset.num_node_features}\")\n",
    "print(f\"hidden_dim: {args.hidden_dim}\")\n",
    "print(f\"output as num_classes: {dataset.num_classes}\")\n",
    "model = GNNStack(dataset.num_node_features, args.hidden_dim, dataset.num_classes, args)"
   ]
  },
  {
   "cell_type": "code",
   "execution_count": 123,
   "id": "f7011a30",
   "metadata": {},
   "outputs": [
    {
     "data": {
      "text/plain": [
       "GNNStack(\n",
       "  (convs): ModuleList(\n",
       "    (0): GraphSage(1433, 32)\n",
       "    (1): GraphSage(32, 32)\n",
       "  )\n",
       "  (post_mp): Sequential(\n",
       "    (0): Linear(in_features=32, out_features=32, bias=True)\n",
       "    (1): Dropout(p=0.5, inplace=False)\n",
       "    (2): Linear(in_features=32, out_features=7, bias=True)\n",
       "  )\n",
       ")"
      ]
     },
     "execution_count": 123,
     "metadata": {},
     "output_type": "execute_result"
    }
   ],
   "source": [
    "model"
   ]
  },
  {
   "cell_type": "code",
   "execution_count": 124,
   "id": "7eb07ccb",
   "metadata": {
    "scrolled": false
   },
   "outputs": [
    {
     "name": "stdout",
     "output_type": "stream",
     "text": [
      "\n",
      "\n",
      "=============== in SAGE layer ===============\n",
      "feed edge_index and x to a propagate func\n",
      "edge_index shape : torch.Size([2, 10556])\n",
      "in x=(x, x), x shape : torch.Size([2708, 1433])\n",
      "x\n",
      "tensor([[0., 0., 0.,  ..., 0., 0., 0.],\n",
      "        [0., 0., 0.,  ..., 0., 0., 0.],\n",
      "        [0., 0., 0.,  ..., 0., 0., 0.],\n",
      "        ...,\n",
      "        [0., 0., 0.,  ..., 0., 0., 0.],\n",
      "        [0., 0., 0.,  ..., 0., 0., 0.],\n",
      "        [0., 0., 0.,  ..., 0., 0., 0.]])\n",
      "========= start propagate ========\n",
      "message: out = x_j\n",
      "message out shape torch.Size([10556, 1433])\n",
      "message out tensor([[0., 0., 0.,  ..., 0., 0., 0.],\n",
      "        [0., 0., 0.,  ..., 0., 0., 0.],\n",
      "        [0., 0., 0.,  ..., 0., 0., 0.],\n",
      "        ...,\n",
      "        [0., 0., 0.,  ..., 0., 0., 0.],\n",
      "        [0., 0., 0.,  ..., 0., 0., 0.],\n",
      "        [0., 0., 0.,  ..., 0., 0., 0.]])\n",
      "======= in aggregate func =======\n",
      "inputs.shape: torch.Size([10556, 1433])\n",
      "tensor([[0., 0., 0.,  ..., 0., 0., 0.],\n",
      "        [0., 0., 0.,  ..., 0., 0., 0.],\n",
      "        [0., 0., 0.,  ..., 0., 0., 0.],\n",
      "        ...,\n",
      "        [0., 0., 0.,  ..., 0., 0., 0.],\n",
      "        [0., 0., 0.,  ..., 0., 0., 0.],\n",
      "        [0., 0., 0.,  ..., 0., 0., 0.]])\n",
      "index.shape: torch.Size([10556])\n",
      "tensor([ 633, 1862, 2582,  ...,  598, 1473, 2706])\n",
      "node_dim: -2\n",
      "dim_size: 2708\n",
      "aggreate out shape torch.Size([2708, 1433])\n",
      "aggregate out tensor([[0.0000, 0.0000, 0.0000,  ..., 0.0000, 0.3333, 0.0000],\n",
      "        [0.0000, 0.0000, 0.0000,  ..., 0.0000, 0.0000, 0.0000],\n",
      "        [0.0000, 0.0000, 0.0000,  ..., 0.0000, 0.0000, 0.0000],\n",
      "        ...,\n",
      "        [0.0000, 0.0000, 0.0000,  ..., 0.0000, 0.0000, 0.0000],\n",
      "        [0.0000, 0.0000, 0.0000,  ..., 0.0000, 0.0000, 0.0000],\n",
      "        [0.0000, 0.0000, 0.0000,  ..., 0.0000, 0.0000, 0.0000]])\n",
      "===== propagate output ====\n",
      "tensor([[0.0000, 0.0000, 0.0000,  ..., 0.0000, 0.3333, 0.0000],\n",
      "        [0.0000, 0.0000, 0.0000,  ..., 0.0000, 0.0000, 0.0000],\n",
      "        [0.0000, 0.0000, 0.0000,  ..., 0.0000, 0.0000, 0.0000],\n",
      "        ...,\n",
      "        [0.0000, 0.0000, 0.0000,  ..., 0.0000, 0.0000, 0.0000],\n",
      "        [0.0000, 0.0000, 0.0000,  ..., 0.0000, 0.0000, 0.0000],\n",
      "        [0.0000, 0.0000, 0.0000,  ..., 0.0000, 0.0000, 0.0000]])\n",
      "torch.Size([2708, 1433])\n",
      "====== lin_l(x) ====\n",
      "tensor([[-0.0238,  0.0213, -0.0638,  ..., -0.0295,  0.0175, -0.0429],\n",
      "        [ 0.0611, -0.0342,  0.0452,  ..., -0.0642, -0.0178,  0.0382],\n",
      "        [ 0.0745,  0.0330, -0.0209,  ..., -0.0977,  0.0555,  0.0451],\n",
      "        ...,\n",
      "        [-0.0395, -0.0549,  0.1071,  ..., -0.1255,  0.0791,  0.0837],\n",
      "        [-0.0856, -0.0493, -0.0133,  ...,  0.0126, -0.0247,  0.0684],\n",
      "        [ 0.0017, -0.0862,  0.0419,  ..., -0.1352,  0.1268, -0.0640]],\n",
      "       grad_fn=<AddmmBackward0>)\n",
      "torch.Size([2708, 32])\n",
      "====== lin_r(prop) ====\n",
      "tensor([[-0.1018, -0.0459,  0.0322,  ...,  0.0382,  0.0011,  0.0008],\n",
      "        [-0.0375, -0.0350, -0.0479,  ...,  0.1185,  0.0165,  0.0515],\n",
      "        [-0.0323, -0.0630, -0.0034,  ...,  0.0931,  0.0154,  0.0023],\n",
      "        ...,\n",
      "        [-0.0562,  0.0018, -0.0267,  ..., -0.0255, -0.0215,  0.0211],\n",
      "        [-0.0594,  0.0306,  0.0204,  ...,  0.0471, -0.0069,  0.0195],\n",
      "        [-0.0206, -0.0271, -0.0202,  ...,  0.0402,  0.0126,  0.0527]],\n",
      "       grad_fn=<AddmmBackward0>)\n",
      "torch.Size([2708, 32])\n",
      "====== out = self.lin_l(x) + self.lin_r(prop) ====\n",
      "tensor([[-0.1256, -0.0246, -0.0316,  ...,  0.0086,  0.0186, -0.0421],\n",
      "        [ 0.0235, -0.0692, -0.0026,  ...,  0.0543, -0.0013,  0.0896],\n",
      "        [ 0.0422, -0.0300, -0.0243,  ..., -0.0047,  0.0709,  0.0474],\n",
      "        ...,\n",
      "        [-0.0956, -0.0531,  0.0805,  ..., -0.1510,  0.0576,  0.1049],\n",
      "        [-0.1450, -0.0186,  0.0071,  ...,  0.0597, -0.0315,  0.0879],\n",
      "        [-0.0189, -0.1133,  0.0217,  ..., -0.0950,  0.1393, -0.0113]],\n",
      "       grad_fn=<AddBackward0>)\n",
      "torch.Size([2708, 32])\n",
      "==== out after norm ====\n",
      "tensor([[-0.3560, -0.0698, -0.0894,  ...,  0.0244,  0.0527, -0.1192],\n",
      "        [ 0.0477, -0.1402, -0.0053,  ...,  0.1101, -0.0027,  0.1818],\n",
      "        [ 0.0836, -0.0594, -0.0481,  ..., -0.0092,  0.1403,  0.0938],\n",
      "        ...,\n",
      "        [-0.2145, -0.1190,  0.1805,  ..., -0.3387,  0.1292,  0.2352],\n",
      "        [-0.3823, -0.0490,  0.0186,  ...,  0.1574, -0.0831,  0.2319],\n",
      "        [-0.0506, -0.3024,  0.0580,  ..., -0.2535,  0.3718, -0.0301]],\n",
      "       grad_fn=<DivBackward0>)\n",
      "torch.Size([2708, 32])\n",
      "\n",
      "\n",
      "=============== in SAGE layer ===============\n",
      "feed edge_index and x to a propagate func\n",
      "edge_index shape : torch.Size([2, 10556])\n",
      "in x=(x, x), x shape : torch.Size([2708, 32])\n",
      "x\n",
      "tensor([[0.0000, 0.0000, 0.0000,  ..., 0.0489, 0.1053, 0.0000],\n",
      "        [0.0955, 0.0000, 0.0000,  ..., 0.0000, 0.0000, 0.3635],\n",
      "        [0.0000, 0.0000, 0.0000,  ..., 0.0000, 0.0000, 0.0000],\n",
      "        ...,\n",
      "        [0.0000, 0.0000, 0.3609,  ..., 0.0000, 0.2585, 0.0000],\n",
      "        [0.0000, 0.0000, 0.0372,  ..., 0.0000, 0.0000, 0.4637],\n",
      "        [0.0000, 0.0000, 0.0000,  ..., 0.0000, 0.0000, 0.0000]],\n",
      "       grad_fn=<MulBackward0>)\n",
      "========= start propagate ========\n",
      "message: out = x_j\n",
      "message out shape torch.Size([10556, 32])\n",
      "message out tensor([[0.0000, 0.0000, 0.0000,  ..., 0.0489, 0.1053, 0.0000],\n",
      "        [0.0000, 0.0000, 0.0000,  ..., 0.0489, 0.1053, 0.0000],\n",
      "        [0.0000, 0.0000, 0.0000,  ..., 0.0489, 0.1053, 0.0000],\n",
      "        ...,\n",
      "        [0.0000, 0.0000, 0.0000,  ..., 0.0000, 0.0000, 0.0000],\n",
      "        [0.0000, 0.0000, 0.0000,  ..., 0.0000, 0.0000, 0.0000],\n",
      "        [0.0000, 0.0000, 0.0000,  ..., 0.0000, 0.0000, 0.0000]],\n",
      "       grad_fn=<IndexSelectBackward0>)\n",
      "======= in aggregate func =======\n",
      "inputs.shape: torch.Size([10556, 32])\n",
      "tensor([[0.0000, 0.0000, 0.0000,  ..., 0.0489, 0.1053, 0.0000],\n",
      "        [0.0000, 0.0000, 0.0000,  ..., 0.0489, 0.1053, 0.0000],\n",
      "        [0.0000, 0.0000, 0.0000,  ..., 0.0489, 0.1053, 0.0000],\n",
      "        ...,\n",
      "        [0.0000, 0.0000, 0.0000,  ..., 0.0000, 0.0000, 0.0000],\n",
      "        [0.0000, 0.0000, 0.0000,  ..., 0.0000, 0.0000, 0.0000],\n",
      "        [0.0000, 0.0000, 0.0000,  ..., 0.0000, 0.0000, 0.0000]],\n",
      "       grad_fn=<IndexSelectBackward0>)\n",
      "index.shape: torch.Size([10556])\n",
      "tensor([ 633, 1862, 2582,  ...,  598, 1473, 2706])\n",
      "node_dim: -2\n",
      "dim_size: 2708\n",
      "aggreate out shape torch.Size([2708, 32])\n",
      "aggregate out tensor([[0.1366, 0.0000, 0.2702,  ..., 0.0662, 0.0000, 0.0000],\n",
      "        [0.0000, 0.0000, 0.0178,  ..., 0.0000, 0.0000, 0.2325],\n",
      "        [0.0523, 0.0000, 0.0000,  ..., 0.0589, 0.0000, 0.1591],\n",
      "        ...,\n",
      "        [0.0000, 0.0000, 0.5114,  ..., 0.0000, 0.0015, 0.0000],\n",
      "        [0.0469, 0.0000, 0.0566,  ..., 0.0486, 0.1136, 0.1477],\n",
      "        [0.0000, 0.0000, 0.1551,  ..., 0.0486, 0.0960, 0.3681]],\n",
      "       grad_fn=<DivBackward0>)\n",
      "===== propagate output ====\n",
      "tensor([[0.1366, 0.0000, 0.2702,  ..., 0.0662, 0.0000, 0.0000],\n",
      "        [0.0000, 0.0000, 0.0178,  ..., 0.0000, 0.0000, 0.2325],\n",
      "        [0.0523, 0.0000, 0.0000,  ..., 0.0589, 0.0000, 0.1591],\n",
      "        ...,\n",
      "        [0.0000, 0.0000, 0.5114,  ..., 0.0000, 0.0015, 0.0000],\n",
      "        [0.0469, 0.0000, 0.0566,  ..., 0.0486, 0.1136, 0.1477],\n",
      "        [0.0000, 0.0000, 0.1551,  ..., 0.0486, 0.0960, 0.3681]],\n",
      "       grad_fn=<DivBackward0>)\n",
      "torch.Size([2708, 32])\n",
      "====== lin_l(x) ====\n",
      "tensor([[-0.1943,  0.0361, -0.0968,  ..., -0.2107, -0.0764, -0.2152],\n",
      "        [ 0.0394,  0.1453,  0.0528,  ..., -0.0477, -0.3741, -0.0937],\n",
      "        [-0.2415,  0.0594, -0.0882,  ..., -0.0073, -0.1450, -0.1623],\n",
      "        ...,\n",
      "        [-0.0528,  0.1546,  0.0620,  ..., -0.0799, -0.1507,  0.0599],\n",
      "        [ 0.0977,  0.0949,  0.2149,  ..., -0.1890, -0.3797, -0.1547],\n",
      "        [-0.0392,  0.1192, -0.1622,  ..., -0.1990, -0.2470, -0.0825]],\n",
      "       grad_fn=<AddmmBackward0>)\n",
      "torch.Size([2708, 32])\n",
      "====== lin_r(prop) ====\n",
      "tensor([[ 0.0366,  0.0876,  0.0160,  ...,  0.0393, -0.2463, -0.3654],\n",
      "        [ 0.0363,  0.1100,  0.0801,  ...,  0.0931, -0.2176, -0.1604],\n",
      "        [ 0.1385,  0.1164,  0.0305,  ...,  0.0931, -0.1399, -0.2221],\n",
      "        ...,\n",
      "        [ 0.0352,  0.2556,  0.0862,  ...,  0.2520, -0.1839, -0.3007],\n",
      "        [ 0.0056,  0.1694,  0.0827,  ...,  0.0187, -0.2264, -0.3260],\n",
      "        [ 0.0151,  0.2502,  0.1282,  ...,  0.0715, -0.2360, -0.2464]],\n",
      "       grad_fn=<AddmmBackward0>)\n",
      "torch.Size([2708, 32])\n",
      "====== out = self.lin_l(x) + self.lin_r(prop) ====\n",
      "tensor([[-0.1577,  0.1237, -0.0808,  ..., -0.1714, -0.3227, -0.5806],\n",
      "        [ 0.0758,  0.2553,  0.1329,  ...,  0.0455, -0.5917, -0.2542],\n",
      "        [-0.1030,  0.1758, -0.0577,  ...,  0.0858, -0.2849, -0.3844],\n",
      "        ...,\n",
      "        [-0.0176,  0.4102,  0.1482,  ...,  0.1722, -0.3346, -0.2408],\n",
      "        [ 0.1034,  0.2643,  0.2976,  ..., -0.1703, -0.6061, -0.4808],\n",
      "        [-0.0242,  0.3694, -0.0339,  ..., -0.1274, -0.4830, -0.3289]],\n",
      "       grad_fn=<AddBackward0>)\n",
      "torch.Size([2708, 32])\n",
      "==== out after norm ====\n",
      "tensor([[-0.1150,  0.0901, -0.0589,  ..., -0.1249, -0.2352, -0.4232],\n",
      "        [ 0.0624,  0.2103,  0.1095,  ...,  0.0374, -0.4873, -0.2093],\n",
      "        [-0.0925,  0.1579, -0.0518,  ...,  0.0770, -0.2558, -0.3451],\n",
      "        ...,\n",
      "        [-0.0127,  0.2967,  0.1072,  ...,  0.1245, -0.2420, -0.1741],\n",
      "        [ 0.0788,  0.2015,  0.2268,  ..., -0.1299, -0.4620, -0.3665],\n",
      "        [-0.0175,  0.2682, -0.0247,  ..., -0.0925, -0.3507, -0.2388]],\n",
      "       grad_fn=<DivBackward0>)\n",
      "torch.Size([2708, 32])\n"
     ]
    }
   ],
   "source": [
    "pred = model(data)"
   ]
  },
  {
   "cell_type": "markdown",
   "id": "9ec36b1f",
   "metadata": {},
   "source": [
    "```\n",
    "=============== in SAGE layer ===============\n",
    "feed edge_index and x to a propagate func\n",
    "edge_index shape : torch.Size([2, 10556])\n",
    "in x=(x, x), x shape : torch.Size([2708, 1433])\n",
    "\n",
    "\n",
    "========= start propagate ========\n",
    "message: out = x_j\n",
    "message out shape torch.Size([10556, 1433])\n",
    "\n",
    "======= in aggregate func =======\n",
    "inputs.shape: torch.Size([10556, 1433])\n",
    "index.shape: torch.Size([10556])\n",
    "node_dim: -2\n",
    "dim_size: 2708\n",
    "aggreate out shape torch.Size([2708, 1433])\n",
    "\n",
    "===== propagate output ====\n",
    "torch.Size([2708, 1433])\n",
    "\n",
    "====== lin_l(x) ====\n",
    "torch.Size([2708, 32])\n",
    "====== lin_r(prop) ====\n",
    "torch.Size([2708, 32])\n",
    "====== out = self.lin_l(x) + self.lin_r(prop) ====\n",
    "torch.Size([2708, 32])\n",
    "==== out after norm ====\n",
    "torch.Size([2708, 32])\n",
    "\n",
    "\n",
    "=============== in SAGE layer ===============\n",
    "feed edge_index and x to a propagate func\n",
    "edge_index shape : torch.Size([2, 10556])\n",
    "in x=(x, x), x shape : torch.Size([2708, 32])\n",
    "\n",
    "========= start propagate ========\n",
    "message: out = x_j\n",
    "message out shape torch.Size([10556, 32])\n",
    "\n",
    "======= in aggregate func =======\n",
    "inputs.shape: torch.Size([10556, 32])\n",
    "index.shape: torch.Size([10556])\n",
    "tensor([ 633, 1862, 2582,  ...,  598, 1473, 2706])\n",
    "node_dim: -2\n",
    "dim_size: 2708\n",
    "aggreate out shape torch.Size([2708, 32])\n",
    "\n",
    "===== propagate output ====\n",
    "torch.Size([2708, 32])\n",
    "\n",
    "====== lin_l(x) ====\n",
    "torch.Size([2708, 32])\n",
    "====== lin_r(prop) ====\n",
    "torch.Size([2708, 32])\n",
    "====== out = self.lin_l(x) + self.lin_r(prop) ====\n",
    "torch.Size([2708, 32])\n",
    "==== out after norm ====\n",
    "torch.Size([2708, 32])\n",
    "```"
   ]
  },
  {
   "cell_type": "markdown",
   "id": "fbd34b93",
   "metadata": {},
   "source": [
    "### what happen in the model?\n",
    "\n",
    "1. the model got inputs (data). \n",
    "\n",
    "    `x=[2708, 1433]`: `[num_nodes, num_node_features]` for each publication, a dictionary of 1433 unique words.\n",
    "\n",
    "    `edge_index=[2, 10556]`: Graph connectivity in COO format with shape [2, num_edges] `[0]` as from, `[1]` as to, even there is no direction.\n",
    "\n",
    "\n",
    "2. the first GraphSAGE layer\n",
    "    2.1 propagate \n",
    "    \n",
    "    2.1.1 message\n",
    "        input size: [10556, 1433], output size: [10556, 1433] as [num_edges, num_node_features]\n",
    "        node features for each edge are seted. There is no manipulation applied.\n",
    "    2.1.2 aggregate\n",
    "        aggregate generated messages.\n",
    "        inputs\n",
    "            inputs.shape: [10556, 1433] as [num_edges, num_node_features]\n",
    "            index.shape: [10556] as [num_edges]\n",
    "        outputs\n",
    "            out.shape: [2708, 1433]\n",
    "            \n",
    "    <img src=\"https://raw.githubusercontent.com/rusty1s/pytorch_scatter/master/docs/source/_figures/add.svg\" width=\"400\">\n",
    "        \n",
    "from [source](https://pytorch-scatter.readthedocs.io/en/latest/functions/scatter.html#torch_scatter.scatter)\n",
    "    \n",
    "    \n",
    "    2.2 embedding\n",
    "        2.2.1 lin_l(x)\n",
    "            Linear take (*, input_dim) and return (*, output_dim)\n",
    "            input_dim = input shape = num_node_features: 1433\n",
    "            output_dim = hidden_dim: 32\n",
    "            \n",
    "            input: x = [2708, 1433] as [*, input_dim ]. In this case, * means the number of nodes\n",
    "            output: [2708, 32] as [*, hidden dim]\n",
    "            \n",
    "        2.2.2 lin_r(prop)\n",
    "            Linear take (*, input_dim) and return (*, output_dim)\n",
    "            input_dim = input shape = num_node_features: 1433\n",
    "            output_dim = hidden_dim: 32\n",
    "            \n",
    "            input: prop = [2708, 1433] is output of aggregate func with shape of [*, input_dim ]. In this case, * means the number of nodes\n",
    "            output: [2708, 32] as [num_nodes, hidden dim]\n",
    "    2.3 normalize\n",
    "        Same as other normalize operation.\n",
    "        the final out shape: [2708, 32]\n",
    "        \n",
    "Now, regard x as shape of [2708, 32] like each node has 32 features.\n",
    "\n",
    "3. the second GraphSAGE layer\n",
    "    3.1 propagate \n",
    "    \n",
    "    3.1.1 message\n",
    "        input size: [10556, 32], output size: [10556, 32] as [num_edges, hidden_dim]\n",
    "        node features for each edge are seted. There is no manipulation applied.\n",
    "    3.1.2 aggregate\n",
    "        aggregate generated messages.\n",
    "        inputs\n",
    "            inputs.shape: [10556, 32] as [num_edges, num_node_features]\n",
    "            index.shape: [10556] as [num_edges]\n",
    "        outputs\n",
    "            out.shape: [2708, 32]\n",
    "            \n",
    "    <img src=\"https://raw.githubusercontent.com/rusty1s/pytorch_scatter/master/docs/source/_figures/add.svg\" width=\"400\">\n",
    "        \n",
    "from [source](https://pytorch-scatter.readthedocs.io/en/latest/functions/scatter.html#torch_scatter.scatter)\n",
    "    \n",
    "    \n",
    "    2.2 embedding\n",
    "        2.2.1 lin_l(x)\n",
    "            Linear take (*, input_dim) and return (*, output_dim)\n",
    "            input_dim = input shape = hidden_dim: 32\n",
    "            output_dim = hidden_dim: 32\n",
    "            \n",
    "            input: x = [2708, 32] as [*, input_dim ]. In this case, * means the number of nodes\n",
    "            output: [2708, 32] as [*, hidden dim]\n",
    "            \n",
    "        2.2.2 lin_r(prop)\n",
    "            Linear take (*, input_dim) and return (*, output_dim)\n",
    "            input_dim = input shape = hidden_dim: 32\n",
    "            output_dim = hidden_dim: 32\n",
    "            \n",
    "            input: prop = [2708, 32] as output of aggregate func and shape of [*, input_dim ]. In this case, * means the number of nodes.\n",
    "            output: [2708, 32] as [num_nods, hidden dim] and shape of [*, hidden dim]\n",
    "    2.3 normalize\n",
    "\n"
   ]
  },
  {
   "cell_type": "markdown",
   "id": "fd427f82",
   "metadata": {},
   "source": [
    "Other processes are similler to the usual MLP. "
   ]
  },
  {
   "cell_type": "markdown",
   "id": "e65d8685",
   "metadata": {},
   "source": [
    "## Training and Testing\n",
    "\n",
    "Here we provide you with the functions to train and test. **Please do not modify this part for grading purposes.**"
   ]
  },
  {
   "cell_type": "code",
   "execution_count": 6,
   "id": "c8aed38c",
   "metadata": {},
   "outputs": [],
   "source": [
    "import time\n",
    "\n",
    "import networkx as nx\n",
    "import numpy as np\n",
    "import torch\n",
    "import torch.optim as optim\n",
    "from tqdm import trange\n",
    "import pandas as pd\n",
    "import copy\n",
    "\n",
    "from torch_geometric.datasets import TUDataset\n",
    "from torch_geometric.datasets import Planetoid\n",
    "from torch_geometric.data import DataLoader\n",
    "\n",
    "import torch_geometric.nn as pyg_nn\n",
    "\n",
    "import matplotlib.pyplot as plt\n",
    "\n",
    "\n",
    "def train(dataset, args):\n",
    "    \n",
    "    print(\"Node task. test set size:\", np.sum(dataset[0]['test_mask'].numpy()))\n",
    "    print()\n",
    "    test_loader = loader = DataLoader(dataset, batch_size=args.batch_size, shuffle=False)\n",
    "\n",
    "    # build model\n",
    "    model = GNNStack(dataset.num_node_features, args.hidden_dim, dataset.num_classes, \n",
    "                            args)\n",
    "    scheduler, opt = build_optimizer(args, model.parameters())\n",
    "\n",
    "    # train\n",
    "    losses = []\n",
    "    test_accs = []\n",
    "    best_acc = 0\n",
    "    best_model = None\n",
    "    for epoch in trange(args.epochs, desc=\"Training\", unit=\"Epochs\"):\n",
    "        total_loss = 0\n",
    "        model.train()\n",
    "        for batch in loader:\n",
    "            opt.zero_grad()\n",
    "            pred = model(batch)\n",
    "            label = batch.y\n",
    "            pred = pred[batch.train_mask]\n",
    "            label = label[batch.train_mask]\n",
    "            loss = model.loss(pred, label)\n",
    "            loss.backward()\n",
    "            opt.step()\n",
    "            total_loss += loss.item() * batch.num_graphs\n",
    "        total_loss /= len(loader.dataset)\n",
    "        losses.append(total_loss)\n",
    "\n",
    "        if epoch % 10 == 0:\n",
    "          test_acc = test(test_loader, model)\n",
    "          test_accs.append(test_acc)\n",
    "          if test_acc > best_acc:\n",
    "            best_acc = test_acc\n",
    "            best_model = copy.deepcopy(model)\n",
    "        else:\n",
    "          test_accs.append(test_accs[-1])\n",
    "    \n",
    "    return test_accs, losses, best_model, best_acc, test_loader\n",
    "\n",
    "def test(loader, test_model, is_validation=False, save_model_preds=False, model_type=None):\n",
    "    test_model.eval()\n",
    "\n",
    "    correct = 0\n",
    "    # Note that Cora is only one graph!\n",
    "    for data in loader:\n",
    "        with torch.no_grad():\n",
    "            # max(dim=1) returns values, indices tuple; only need indices\n",
    "            pred = test_model(data).max(dim=1)[1]\n",
    "            label = data.y\n",
    "\n",
    "        mask = data.val_mask if is_validation else data.test_mask\n",
    "        # node classification: only evaluate on nodes in test set\n",
    "        pred = pred[mask]\n",
    "        label = label[mask]\n",
    "\n",
    "        if save_model_preds:\n",
    "          print (\"Saving Model Predictions for Model Type\", model_type)\n",
    "\n",
    "          data = {}\n",
    "          data['pred'] = pred.view(-1).cpu().detach().numpy()\n",
    "          data['label'] = label.view(-1).cpu().detach().numpy()\n",
    "\n",
    "          df = pd.DataFrame(data=data)\n",
    "          # Save locally as csv\n",
    "          df.to_csv('CORA-Node-' + model_type + '.csv', sep=',', index=False)\n",
    "            \n",
    "        correct += pred.eq(label).sum().item()\n",
    "\n",
    "    total = 0\n",
    "    for data in loader.dataset:\n",
    "        total += torch.sum(data.val_mask if is_validation else data.test_mask).item()\n",
    "\n",
    "    return correct / total\n",
    "  \n",
    "class objectview(object):\n",
    "    def __init__(self, d):\n",
    "        self.__dict__ = d\n"
   ]
  },
  {
   "cell_type": "markdown",
   "id": "330290a1",
   "metadata": {},
   "source": [
    "## Let's Start the Training!\n",
    "\n",
    "We will be working on the CORA dataset on node-level classification.\n",
    "\n",
    "This part is implemented for you. **For grading purposes, please do not modify the default parameters.** However, feel free to play with different configurations just for fun!\n",
    "\n",
    "**Submit your best accuracy and loss on Gradescope.**"
   ]
  },
  {
   "cell_type": "code",
   "execution_count": 6,
   "id": "86a7eecd",
   "metadata": {},
   "outputs": [
    {
     "name": "stderr",
     "output_type": "stream",
     "text": [
      "C:\\Users\\user\\anaconda3\\envs\\gnn\\lib\\site-packages\\torch_geometric\\deprecation.py:12: UserWarning: 'data.DataLoader' is deprecated, use 'loader.DataLoader' instead\n",
      "  warnings.warn(out)\n"
     ]
    },
    {
     "name": "stdout",
     "output_type": "stream",
     "text": [
      "Node task. test set size: 1000\n",
      "\n"
     ]
    },
    {
     "name": "stderr",
     "output_type": "stream",
     "text": [
      "Training: 100%|██████████████████████████████████████████████████████| 500/500 [00:26<00:00, 18.61Epochs/s]\n"
     ]
    },
    {
     "name": "stdout",
     "output_type": "stream",
     "text": [
      "Maximum test set accuracy: 0.803\n",
      "Minimum loss: 0.10081276297569275\n",
      "Saving Model Predictions for Model Type GraphSage\n",
      "\n"
     ]
    },
    {
     "data": {
      "image/png": "[encoded data removed]",
      "text/plain": [
       "<Figure size 432x288 with 1 Axes>"
      ]
     },
     "metadata": {
      "needs_background": "light"
     },
     "output_type": "display_data"
    }
   ],
   "source": [
    "if 'IS_GRADESCOPE_ENV' not in os.environ:\n",
    "    for args in [\n",
    "        {'model_type': 'GraphSage', 'dataset': 'cora', 'num_layers': 2, 'heads': 1, 'batch_size': 32, 'hidden_dim': 32, 'dropout': 0.5, 'epochs': 500, 'opt': 'adam', 'opt_scheduler': 'none', 'opt_restart': 0, 'weight_decay': 5e-3, 'lr': 0.01},\n",
    "    ]:\n",
    "        args = objectview(args)\n",
    "        for model in ['GraphSage']:\n",
    "            args.model_type = model\n",
    "\n",
    "            # Match the dimension.\n",
    "            if model == 'GAT':\n",
    "              args.heads = 2\n",
    "            else:\n",
    "              args.heads = 1\n",
    "\n",
    "            if args.dataset == 'cora':\n",
    "                dataset = Planetoid(root='/tmp/cora', name='Cora')\n",
    "            else:\n",
    "                raise NotImplementedError(\"Unknown dataset\") \n",
    "            test_accs, losses, best_model, best_acc, test_loader = train(dataset, args) \n",
    "\n",
    "            print(\"Maximum test set accuracy: {0}\".format(max(test_accs)))\n",
    "            print(\"Minimum loss: {0}\".format(min(losses)))\n",
    "\n",
    "            # Run test for our best model to save the predictions!\n",
    "            test(test_loader, best_model, is_validation=False, save_model_preds=True, model_type=model)\n",
    "            print()\n",
    "\n",
    "            plt.title(dataset.name)\n",
    "            plt.plot(losses, label=\"training loss\" + \" - \" + args.model_type)\n",
    "            plt.plot(test_accs, label=\"test accuracy\" + \" - \" + args.model_type)\n",
    "        plt.legend()\n",
    "        plt.show()\n"
   ]
  },
  {
   "cell_type": "markdown",
   "id": "bcfd9450",
   "metadata": {},
   "source": [
    "## reference\n",
    "\n",
    "cs224w colab 3 https://colab.research.google.com/drive/1bAvutxJhjMyNsbzlLuQybzn_DXM63CuE"
   ]
  },
  {
   "cell_type": "code",
   "execution_count": null,
   "id": "449060ea",
   "metadata": {},
   "outputs": [],
   "source": []
  }
 ],
 "metadata": {
  "kernelspec": {
   "display_name": "Python 3 (ipykernel)",
   "language": "python",
   "name": "python3"
  },
  "language_info": {
   "codemirror_mode": {
    "name": "ipython",
    "version": 3
   },
   "file_extension": ".py",
   "mimetype": "text/x-python",
   "name": "python",
   "nbconvert_exporter": "python",
   "pygments_lexer": "ipython3",
   "version": "3.7.13"
  }
 },
 "nbformat": 4,
 "nbformat_minor": 5
}
